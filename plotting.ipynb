{
 "cells": [
  {
   "cell_type": "code",
   "execution_count": 43,
   "metadata": {},
   "outputs": [
    {
     "name": "stdout",
     "output_type": "stream",
     "text": [
      "The autoreload extension is already loaded. To reload it, use:\n",
      "  %reload_ext autoreload\n",
      "['data\\\\YCsgA_Exp2_Pos1.tif', 'data\\\\YCsgA_Exp2_Pos2.tif', 'data\\\\YCsgA_Exp2_Pos3.tif', 'data\\\\YCsgA_Exp2_Pos4.tif', 'data\\\\YCsgA_Exp3_Pos1.tif', 'data\\\\YCsgA_Exp3_Pos2.tif', 'data\\\\YCsgA_Exp3_Pos3.tif', 'data\\\\YCsgA_Exp3_Pos4.tif']\n"
     ]
    }
   ],
   "source": [
    "%load_ext autoreload\n",
    "%autoreload 2\n",
    "%matplotlib qt5\n",
    "import matplotlib.pyplot as plt\n",
    "import numpy as np\n",
    "import jlc\n",
    "import scipy\n",
    "import cv2\n",
    "from PIL import Image\n",
    "from utils import (estimate_bias, estimate_bias_coefs,norm_quantile,\n",
    "                   norm_translation,process_vol,soft_threshold,\n",
    "                   get_disc_2d,inspect_fiber_vol,filter_vol)\n",
    "from pathlib import Path\n",
    "import os\n",
    "import matplotlib\n",
    "matplotlib.rcParams['figure.dpi'] = 150\n",
    "\n",
    "filenames = list(Path(\"./data/\").glob(\"*.tif\"))\n",
    "filenames = [str(f) for f in filenames]\n",
    "print(filenames)\n",
    "nice_names = [\" \".join(f.split(\"_\")[1:3]).replace(\".tif\",\"\") for f in filenames]"
   ]
  },
  {
   "cell_type": "code",
   "execution_count": 21,
   "metadata": {},
   "outputs": [],
   "source": [
    "#sum.png\n",
    "half_of_dim1 = lambda x: x[:,:,:x.shape[1]//2]\n",
    "lines = []\n",
    "for filename in filenames:\n",
    "    line = half_of_dim1(jlc.load_tifvol(filename)).sum((1,2))\n",
    "    lines.append(line)\n",
    "\n"
   ]
  },
  {
   "cell_type": "code",
   "execution_count": 24,
   "metadata": {},
   "outputs": [
    {
     "data": {
      "text/plain": [
       "Text(0, 0.5, 'Raw Sum of Intensity')"
      ]
     },
     "execution_count": 24,
     "metadata": {},
     "output_type": "execute_result"
    }
   ],
   "source": [
    "plt.plot(np.array(lines[:4]).T)\n",
    "plt.plot(np.array(lines[4:]).T)\n",
    "plt.legend(nice_names)\n",
    "plt.xlabel(\"Time (frames)\")\n",
    "plt.ylabel(\"Raw Sum of Intensity\")"
   ]
  },
  {
   "cell_type": "code",
   "execution_count": 69,
   "metadata": {},
   "outputs": [],
   "source": [
    "#frame_100.png\n",
    "sub = [[100],range(0,684),range(0,856//2)]\n",
    "frames = []\n",
    "for filename in filenames:\n",
    "    frame = jlc.load_tifvol(filename,sub=sub)[0]\n",
    "    frames.append(frame)\n",
    "montage_im = jlc.montage(frames,n_col=4,imshow=False,return_im=True)\n",
    "montage_im = norm_quantile(montage_im,[0.1,0.001])\n",
    "montage_im = (montage_im*255).astype(np.uint8)[:,:,0]\n",
    "Image.fromarray(montage_im).save(\"./Figures/frame_100.png\")\n",
    "\n",
    "sub = [[-20],range(0,684),range(0,856//2)]\n",
    "frames = []\n",
    "for filename in filenames:\n",
    "    frame = jlc.load_tifvol(filename,sub=sub)[0]\n",
    "    frames.append(frame)\n",
    "montage_im = jlc.montage(frames,n_col=4,imshow=False,return_im=True)\n",
    "montage_im = norm_quantile(montage_im,[0.01,0.005])\n",
    "montage_im = (montage_im*255).astype(np.uint8)[:,:,0]\n",
    "Image.fromarray(montage_im).save(\"./Figures/frame_m20.png\")"
   ]
  }
 ],
 "metadata": {
  "kernelspec": {
   "display_name": "cv-env",
   "language": "python",
   "name": "python3"
  },
  "language_info": {
   "codemirror_mode": {
    "name": "ipython",
    "version": 3
   },
   "file_extension": ".py",
   "mimetype": "text/x-python",
   "name": "python",
   "nbconvert_exporter": "python",
   "pygments_lexer": "ipython3",
   "version": "3.10.11"
  }
 },
 "nbformat": 4,
 "nbformat_minor": 2
}
