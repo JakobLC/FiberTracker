{
 "cells": [
  {
   "cell_type": "markdown",
   "metadata": {},
   "source": [
    "## init"
   ]
  },
  {
   "cell_type": "code",
   "execution_count": 1,
   "metadata": {},
   "outputs": [
    {
     "name": "stdout",
     "output_type": "stream",
     "text": [
      "['data/exp1_pos0.tif', 'data/exp1_pos1.tif', 'data/exp1_pos2.tif', 'data/exp1_pos3.tif', 'data/exp2_pos0.tif', 'data/exp2_pos1.tif', 'data/exp2_pos2.tif', 'data/exp2_pos3.tif']\n"
     ]
    }
   ],
   "source": [
    "%load_ext autoreload\n",
    "%autoreload 2\n",
    "%matplotlib qt5\n",
    "import matplotlib.pyplot as plt\n",
    "import numpy as np\n",
    "from functools import partial\n",
    "import jlc\n",
    "import copy\n",
    "import scipy\n",
    "import cv2\n",
    "from PIL import Image\n",
    "from utils import (estimate_bias, estimate_bias_coefs,norm_quantile,\n",
    "                   norm_translation,process_vol,soft_threshold,\n",
    "                   get_disc_2d,inspect_fiber_vol,filter_vol,generate_results,\n",
    "                   generate_results_branching,FiberGraph,get_high_density_mask)\n",
    "from pathlib import Path\n",
    "import os\n",
    "\n",
    "filenames = list(Path(\"./data/\").glob(\"*.tif\"))\n",
    "filenames = sorted([str(f) for f in filenames])\n",
    "print(filenames)\n",
    "nice_names = [\" \".join(f.split(\"/\")[-1].split(\"_\")[-2:]).replace(\".tif\",\"\") for f in filenames]"
   ]
  },
  {
   "cell_type": "markdown",
   "metadata": {},
   "source": [
    "## old"
   ]
  },
  {
   "cell_type": "code",
   "execution_count": 2,
   "metadata": {},
   "outputs": [],
   "source": [
    "#sum.png\n",
    "half_of_dim1 = lambda x: x[:,:,:x.shape[1]//2]\n",
    "lines = []\n",
    "for filename in filenames:\n",
    "    line = half_of_dim1(jlc.load_tifvol(filename)).sum((1,2))\n",
    "    lines.append(line)\n",
    "\n"
   ]
  },
  {
   "cell_type": "code",
   "execution_count": 3,
   "metadata": {},
   "outputs": [
    {
     "data": {
      "text/plain": [
       "Text(0, 0.5, 'Raw Sum of Intensity')"
      ]
     },
     "execution_count": 3,
     "metadata": {},
     "output_type": "execute_result"
    }
   ],
   "source": [
    "plt.plot(np.array(lines[:4]).T)\n",
    "plt.plot(np.array(lines[4:]).T)\n",
    "plt.legend(nice_names)\n",
    "plt.xlabel(\"Time (frames)\")\n",
    "plt.ylabel(\"Raw Sum of Intensity\")"
   ]
  },
  {
   "cell_type": "code",
   "execution_count": 4,
   "metadata": {},
   "outputs": [],
   "source": [
    "#frame_100.png\n",
    "sub = [[100],range(0,684),range(0,856//2)]\n",
    "frames = []\n",
    "for filename in filenames:\n",
    "    frame = jlc.load_tifvol(filename,sub=sub)[0]\n",
    "    frames.append(frame)\n",
    "montage_im = jlc.montage(frames,n_col=4,imshow=False,return_im=True)\n",
    "montage_im = norm_quantile(montage_im,[0.1,0.001])\n",
    "montage_im = (montage_im*255).astype(np.uint8)[:,:,0]\n",
    "Image.fromarray(montage_im).save(\"./Figures/frame_100.png\")\n",
    "\n",
    "sub = [[-20],range(0,684),range(0,856//2)]\n",
    "frames = []\n",
    "for filename in filenames:\n",
    "    frame = jlc.load_tifvol(filename,sub=sub)[0]\n",
    "    frames.append(frame)\n",
    "montage_im = jlc.montage(frames,n_col=4,imshow=False,return_im=True)\n",
    "montage_im = norm_quantile(montage_im,[0.01,0.005])\n",
    "montage_im = (montage_im*255).astype(np.uint8)[:,:,0]\n",
    "plt.imshow(montage_im)\n",
    "if False:\n",
    "    Image.fromarray(montage_im).save(\"./Figures/frame_m20.png\")"
   ]
  },
  {
   "cell_type": "markdown",
   "metadata": {},
   "source": [
    "## new"
   ]
  },
  {
   "cell_type": "code",
   "execution_count": 2,
   "metadata": {},
   "outputs": [
    {
     "name": "stdout",
     "output_type": "stream",
     "text": [
      "done with frame 0/718\n",
      "done with frame 50/718\n",
      "done with frame 100/718\n",
      "done with frame 150/718\n",
      "done with frame 200/718\n",
      "done with frame 250/718\n",
      "done with frame 300/718\n",
      "done with frame 350/718\n",
      "done with frame 400/718\n",
      "done with frame 450/718\n",
      "done with frame 500/718\n",
      "done with frame 550/718\n",
      "done with frame 600/718\n",
      "done with frame 650/718\n",
      "done with frame 700/718\n"
     ]
    }
   ],
   "source": [
    "i = 4\n",
    "filename = filenames[i]\n",
    "\n",
    "savename = filename.replace(\"data\",\"data_processed3\")\n",
    "os.makedirs(os.path.dirname(savename),exist_ok=True)\n",
    "vol_vis, best_translation = process_vol(filename,smaller=False,reset_origo_on_bad_frame=False)\n",
    "jlc.save_tifvol(vol_vis,savename)\n",
    "\n",
    "\n"
   ]
  },
  {
   "cell_type": "code",
   "execution_count": 3,
   "metadata": {},
   "outputs": [],
   "source": [
    "savename = filename.replace(\"data\",\"data_filtered3\")\n",
    "os.makedirs(os.path.dirname(savename),exist_ok=True)\n",
    "vol = filter_vol(vol_vis,only_median=False,alpha=0.001,thresh_small=[0.1,0.2])\n",
    "jlc.save_tifvol(vol,savename)"
   ]
  },
  {
   "cell_type": "code",
   "execution_count": 1,
   "metadata": {},
   "outputs": [
    {
     "ename": "NameError",
     "evalue": "name 'jlc' is not defined",
     "output_type": "error",
     "traceback": [
      "\u001b[0;31m---------------------------------------------------------------------------\u001b[0m",
      "\u001b[0;31mNameError\u001b[0m                                 Traceback (most recent call last)",
      "Cell \u001b[0;32mIn[1], line 1\u001b[0m\n\u001b[0;32m----> 1\u001b[0m \u001b[43mjlc\u001b[49m\u001b[38;5;241m.\u001b[39minspect_vol(np\u001b[38;5;241m.\u001b[39mconcatenate([vol,vol_vis],axis\u001b[38;5;241m=\u001b[39m\u001b[38;5;241m2\u001b[39m))\n",
      "\u001b[0;31mNameError\u001b[0m: name 'jlc' is not defined"
     ]
    }
   ],
   "source": [
    "jlc.inspect_vol(np.concatenate([vol,vol_vis],axis=2))"
   ]
  },
  {
   "cell_type": "code",
   "execution_count": 9,
   "metadata": {},
   "outputs": [
    {
     "name": "stdout",
     "output_type": "stream",
     "text": [
      "data/exp1_pos0\n",
      "found n=31 candidate paths with len>=8\n",
      "found n=31 candidate paths with mean min dist>0\n",
      "data/exp1_pos0\n"
     ]
    }
   ],
   "source": [
    "generate_results(i,filenames)\n",
    "generate_results_branching(i,filenames)\n"
   ]
  },
  {
   "cell_type": "code",
   "execution_count": 4,
   "metadata": {},
   "outputs": [],
   "source": [
    "i = 4\n",
    "vol_vis = jlc.load_tifvol(filenames[i].replace(\"data\",\"data_processed3\"))\n",
    "vol = jlc.load_tifvol(filenames[i].replace(\"data\",\"data_filtered3\"))\n",
    "#jlc.inspect_vol(vol)\n",
    "#jlc.inspect_vol(vol_vis)\n",
    "#jlc.zoom()"
   ]
  },
  {
   "cell_type": "code",
   "execution_count": 9,
   "metadata": {},
   "outputs": [],
   "source": [
    "jlc.inspect_vol(vol)"
   ]
  },
  {
   "cell_type": "code",
   "execution_count": 12,
   "metadata": {},
   "outputs": [],
   "source": [
    "find_conn_func = lambda xy,nodes,node: FiberGraph.default_find_conn_func(None,xy,nodes,node,threshold=10)\n",
    "fiber_graph_no_crop = FiberGraph(radius=3,find_conn_func=find_conn_func,threshold=0.2)\n",
    "fiber_graph_no_crop.process_vol(vol)\n",
    "fiber_graph_no_crop.remove_inactive()\n",
    "\n",
    "fiber_graph = copy.deepcopy(fiber_graph_no_crop)\n",
    "fiber_graph.process_vol(vol)\n",
    "\n",
    "fiber_graph.cc_crop()\n",
    "fiber_graph.leaf_crop()\n",
    "\n",
    "fiber_graph.high_dens_crop(get_high_density_mask(vol[-1]))\n",
    "fiber_graph.remove_inactive()"
   ]
  },
  {
   "cell_type": "code",
   "execution_count": 110,
   "metadata": {},
   "outputs": [],
   "source": [
    "xlims = [90,320]\n",
    "ylims = [335,200]\n",
    "mf = len(vol)\n",
    "colors = {\"points_and_lines\": \"C1\", \"deg_1\": [0,1,0], \"leafs\": \"C0\", \"branches\": \"magenta\", \"recent\": \"C5\", \"root\": \"C4\"}\n",
    "sizes = {\"points\": 6, \"lines\": 1.5, \"deg_1\": 10, \"branches\": 10,\"recent\": 5, \"root\": 10}\n",
    "plt.figure(figsize=(8,5))\n",
    "plt.imshow(vol_vis[mf-1],cmap=\"gray\")\n",
    "fiber_graph_no_crop.plot(mpl_colors=False,color=colors[\"leafs\"],sizes=sizes)\n",
    "fiber_graph.plot(mpl_colors=False,sizes=sizes, color=colors[\"points_and_lines\"])\n",
    "fiber_graph_no_crop.plot(show_deg_1=True, show_branches=True, dont_plot=True,sizes=sizes, colors=colors)\n",
    "\n",
    "plt.xlim(xlims)\n",
    "plt.ylim(ylims)\n",
    "plt.legend({\"Points and Lines\":colors[\"points_and_lines\"],\"Branches\":colors[\"branches\"],\"Degree 1\":colors[\"deg_1\"]})\n",
    "plt.axis(\"off\")\n",
    "#kwargs to be used in plt.plot to achieve the nice looking legend we want\n",
    "plot_kwargs = [\n",
    "    {\"color\":colors[\"points_and_lines\"],\"label\":\"nodes and vertices\",\"markersize\":sizes[\"points\"]  ,\"linewidth\":sizes[\"lines\"]    ,\"fmt\": \".-\"},\n",
    "    {\"color\":colors[\"leafs\"]           ,\"label\":\"small leafs\",     \"markersize\":sizes[\"points\"]  ,\"linewidth\":sizes[\"lines\"]    ,\"fmt\": \".-\"},\n",
    "    {\"label\":\"branching (deg>2)\",\"markersize\":sizes[\"branches\"],\"fmt\": \"o\",\"markerfacecolor\": \"none\",\"color\": colors[\"branches\"]},\n",
    "    {\"color\":colors[\"deg_1\"]           ,\"label\":\"growing (deg<2)\",         \"markersize\":sizes[\"deg_1\"]   ,\"markersize\":sizes[\"deg_1\"]   ,\"fmt\": \"o\",\"markerfacecolor\": \"none\"},\n",
    "    ]\n",
    "                \n",
    "if True: # plot the text for connected components\n",
    "    #add connected components\n",
    "    text_pos = [240,320]\n",
    "    arrowhead_pos = [[246,286],[272,297],[204,318],[205,295]]\n",
    "    plt.text(text_pos[0],text_pos[1],\"connected\\ncomponents\",fontsize=12,color=\"red\",ha=\"center\",va=\"bottom\")\n",
    "    for i,arrowhead in enumerate(arrowhead_pos):\n",
    "        startpos = [p2*0.5+0.5*p1 for p1,p2 in  zip(arrowhead,text_pos)]\n",
    "        plt.annotate(\"\", xy=arrowhead, xytext=startpos,arrowprops=dict(arrowstyle=\"->\",lw=1,color=\"red\"))\n",
    "    \n",
    "    linehead_pos = [[220,285],[225,285],[230,285]]\n",
    "    for i,arrowhead in enumerate(linehead_pos):\n",
    "        startpos = [p2*0.2+0.8*p1 for p1,p2 in  zip(arrowhead,text_pos)]\n",
    "        endpos = [p2*0.5+0.5*p1 for p1,p2 in  zip(arrowhead,text_pos)]\n",
    "        plt.annotate(\"\", xy=endpos, xytext=startpos,arrowprops=dict(arrowstyle=\"-\",lw=1,color=\"red\"))\n",
    "    plt.text(220,295,\"...\",fontsize=20,color=\"red\",ha=\"center\",va=\"center\")\n",
    "\n",
    "if True: # plot the text for high conf fibers\n",
    "    text_pos = [180,237]\n",
    "    arrowhead_pos = [[153,257],[211,220]]\n",
    "    plt.text(text_pos[0],text_pos[1],\"high conf.\\nfibers\",fontsize=12,color=\"red\",ha=\"center\",va=\"center\")\n",
    "    for i,arrowhead in enumerate(arrowhead_pos):\n",
    "        startpos = [p2*0.6+0.4*p1 for p1,p2 in  zip(arrowhead,text_pos)]\n",
    "        plt.annotate(\"\", xy=arrowhead, xytext=startpos,arrowprops=dict(arrowstyle=\"->\",lw=1,color=\"red\"))\n",
    "                     \n",
    "jlc.simulated_legend(plot_kwargs);\n",
    "plt.tight_layout()\n",
    "#jlc.zoom()\n",
    "if True:\n",
    "    plt.savefig(\"./Figures/fiber_graph_vis.png\",dpi=200)"
   ]
  },
  {
   "cell_type": "code",
   "execution_count": 14,
   "metadata": {},
   "outputs": [
    {
     "data": {
      "text/plain": [
       "<jlc.functions.zoom at 0x769601298730>"
      ]
     },
     "execution_count": 14,
     "metadata": {},
     "output_type": "execute_result"
    }
   ],
   "source": [
    "inspect_fiber_vol(vol_vis,fiber_graph=fiber_graph,vmax=0.5)\n",
    "jlc.zoom()"
   ]
  },
  {
   "cell_type": "code",
   "execution_count": 10,
   "metadata": {},
   "outputs": [
    {
     "data": {
      "text/plain": [
       "<jlc.functions.zoom at 0x770668164910>"
      ]
     },
     "execution_count": 10,
     "metadata": {},
     "output_type": "execute_result"
    }
   ],
   "source": [
    "plt.imshow(vol_vis,cmap=\"gray\")\n",
    "jlc.zoom()"
   ]
  }
 ],
 "metadata": {
  "kernelspec": {
   "display_name": "cv-env",
   "language": "python",
   "name": "python3"
  },
  "language_info": {
   "codemirror_mode": {
    "name": "ipython",
    "version": 3
   },
   "file_extension": ".py",
   "mimetype": "text/x-python",
   "name": "python",
   "nbconvert_exporter": "python",
   "pygments_lexer": "ipython3",
   "version": "3.8.18"
  }
 },
 "nbformat": 4,
 "nbformat_minor": 2
}
