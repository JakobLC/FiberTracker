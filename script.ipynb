{
 "cells": [
  {
   "cell_type": "code",
   "execution_count": 3,
   "metadata": {},
   "outputs": [
    {
     "name": "stdout",
     "output_type": "stream",
     "text": [
      "The autoreload extension is already loaded. To reload it, use:\n",
      "  %reload_ext autoreload\n"
     ]
    }
   ],
   "source": [
    "%load_ext autoreload\n",
    "%autoreload 2\n",
    "%matplotlib qt5\n",
    "import matplotlib.pyplot as plt\n",
    "import numpy as np\n",
    "import jlc\n",
    "import scipy\n",
    "import cv2\n",
    "from utils import estimate_bias, estimate_bias_coefs,norm_quantile,norm_translation,process_vol,soft_threshold,get_disc_2d,inspect_fiber_vol\n",
    "from pathlib import Path\n",
    "import os"
   ]
  },
  {
   "cell_type": "code",
   "execution_count": 4,
   "metadata": {},
   "outputs": [
    {
     "name": "stdout",
     "output_type": "stream",
     "text": [
      "['data\\\\YCsgA_Exp2_Pos1.tif', 'data\\\\YCsgA_Exp2_Pos2.tif', 'data\\\\YCsgA_Exp2_Pos3.tif', 'data\\\\YCsgA_Exp2_Pos4.tif', 'data\\\\YCsgA_Exp3_Pos1.tif', 'data\\\\YCsgA_Exp3_Pos2.tif', 'data\\\\YCsgA_Exp3_Pos3.tif', 'data\\\\YCsgA_Exp3_Pos4.tif']\n"
     ]
    }
   ],
   "source": [
    "filenames = list(Path(\"./data/\").glob(\"*.tif\"))\n",
    "filenames = [str(f) for f in filenames]\n",
    "print(filenames)"
   ]
  },
  {
   "cell_type": "code",
   "execution_count": 5,
   "metadata": {},
   "outputs": [
    {
     "ename": "KeyboardInterrupt",
     "evalue": "",
     "output_type": "error",
     "traceback": [
      "\u001b[1;31m---------------------------------------------------------------------------\u001b[0m",
      "\u001b[1;31mKeyboardInterrupt\u001b[0m                         Traceback (most recent call last)",
      "\u001b[1;32mc:\\Users\\Jakob\\Desktop\\DTU\\William\\script.ipynb Cell 3\u001b[0m line \u001b[0;36m4\n\u001b[0;32m      <a href='vscode-notebook-cell:/c%3A/Users/Jakob/Desktop/DTU/William/script.ipynb#W2sZmlsZQ%3D%3D?line=1'>2</a>\u001b[0m vol \u001b[39m=\u001b[39m vol[:,:,:vol\u001b[39m.\u001b[39mshape[\u001b[39m2\u001b[39m]\u001b[39m/\u001b[39m\u001b[39m/\u001b[39m\u001b[39m2\u001b[39m]\u001b[39m.\u001b[39mastype(\u001b[39mfloat\u001b[39m)\n\u001b[0;32m      <a href='vscode-notebook-cell:/c%3A/Users/Jakob/Desktop/DTU/William/script.ipynb#W2sZmlsZQ%3D%3D?line=2'>3</a>\u001b[0m vol \u001b[39m=\u001b[39m norm_quantile(vol,alpha\u001b[39m=\u001b[39m\u001b[39m0.001\u001b[39m,clip\u001b[39m=\u001b[39m\u001b[39mTrue\u001b[39;00m)\n\u001b[1;32m----> <a href='vscode-notebook-cell:/c%3A/Users/Jakob/Desktop/DTU/William/script.ipynb#W2sZmlsZQ%3D%3D?line=3'>4</a>\u001b[0m coefs \u001b[39m=\u001b[39m estimate_bias_coefs(vol)\n\u001b[0;32m      <a href='vscode-notebook-cell:/c%3A/Users/Jakob/Desktop/DTU/William/script.ipynb#W2sZmlsZQ%3D%3D?line=4'>5</a>\u001b[0m vol \u001b[39m*\u001b[39m\u001b[39m=\u001b[39m coefs\u001b[39m.\u001b[39mreshape(\u001b[39m-\u001b[39m\u001b[39m1\u001b[39m,\u001b[39m1\u001b[39m,\u001b[39m1\u001b[39m)\n\u001b[0;32m      <a href='vscode-notebook-cell:/c%3A/Users/Jakob/Desktop/DTU/William/script.ipynb#W2sZmlsZQ%3D%3D?line=5'>6</a>\u001b[0m bias \u001b[39m=\u001b[39m estimate_bias(vol)\n",
      "File \u001b[1;32mc:\\Users\\Jakob\\Desktop\\DTU\\William\\utils.py:16\u001b[0m, in \u001b[0;36mestimate_bias_coefs\u001b[1;34m(vol, q)\u001b[0m\n\u001b[0;32m     15\u001b[0m \u001b[39mdef\u001b[39;00m \u001b[39mestimate_bias_coefs\u001b[39m(vol,q\u001b[39m=\u001b[39m\u001b[39m0.1\u001b[39m):\n\u001b[1;32m---> 16\u001b[0m     q_coefs \u001b[39m=\u001b[39m np\u001b[39m.\u001b[39marray([np\u001b[39m.\u001b[39mquantile(v,q) \u001b[39mfor\u001b[39;00m v \u001b[39min\u001b[39;00m vol])\n\u001b[0;32m     17\u001b[0m     q_coefs \u001b[39m=\u001b[39m q_coefs\u001b[39m/\u001b[39mnp\u001b[39m.\u001b[39mmean(q_coefs)\n\u001b[0;32m     18\u001b[0m     base_mean \u001b[39m=\u001b[39m vol\u001b[39m.\u001b[39mmean((\u001b[39m1\u001b[39m,\u001b[39m2\u001b[39m))\n",
      "File \u001b[1;32mc:\\Users\\Jakob\\Desktop\\DTU\\William\\utils.py:16\u001b[0m, in \u001b[0;36m<listcomp>\u001b[1;34m(.0)\u001b[0m\n\u001b[0;32m     15\u001b[0m \u001b[39mdef\u001b[39;00m \u001b[39mestimate_bias_coefs\u001b[39m(vol,q\u001b[39m=\u001b[39m\u001b[39m0.1\u001b[39m):\n\u001b[1;32m---> 16\u001b[0m     q_coefs \u001b[39m=\u001b[39m np\u001b[39m.\u001b[39marray([np\u001b[39m.\u001b[39;49mquantile(v,q) \u001b[39mfor\u001b[39;00m v \u001b[39min\u001b[39;00m vol])\n\u001b[0;32m     17\u001b[0m     q_coefs \u001b[39m=\u001b[39m q_coefs\u001b[39m/\u001b[39mnp\u001b[39m.\u001b[39mmean(q_coefs)\n\u001b[0;32m     18\u001b[0m     base_mean \u001b[39m=\u001b[39m vol\u001b[39m.\u001b[39mmean((\u001b[39m1\u001b[39m,\u001b[39m2\u001b[39m))\n",
      "File \u001b[1;32m<__array_function__ internals>:200\u001b[0m, in \u001b[0;36mquantile\u001b[1;34m(*args, **kwargs)\u001b[0m\n",
      "File \u001b[1;32mc:\\Users\\Jakob\\anaconda3\\envs\\cv-env\\lib\\site-packages\\numpy\\lib\\function_base.py:4461\u001b[0m, in \u001b[0;36mquantile\u001b[1;34m(a, q, axis, out, overwrite_input, method, keepdims, interpolation)\u001b[0m\n\u001b[0;32m   4459\u001b[0m \u001b[39mif\u001b[39;00m \u001b[39mnot\u001b[39;00m _quantile_is_valid(q):\n\u001b[0;32m   4460\u001b[0m     \u001b[39mraise\u001b[39;00m \u001b[39mValueError\u001b[39;00m(\u001b[39m\"\u001b[39m\u001b[39mQuantiles must be in the range [0, 1]\u001b[39m\u001b[39m\"\u001b[39m)\n\u001b[1;32m-> 4461\u001b[0m \u001b[39mreturn\u001b[39;00m _quantile_unchecked(\n\u001b[0;32m   4462\u001b[0m     a, q, axis, out, overwrite_input, method, keepdims)\n",
      "File \u001b[1;32mc:\\Users\\Jakob\\anaconda3\\envs\\cv-env\\lib\\site-packages\\numpy\\lib\\function_base.py:4473\u001b[0m, in \u001b[0;36m_quantile_unchecked\u001b[1;34m(a, q, axis, out, overwrite_input, method, keepdims)\u001b[0m\n\u001b[0;32m   4465\u001b[0m \u001b[39mdef\u001b[39;00m \u001b[39m_quantile_unchecked\u001b[39m(a,\n\u001b[0;32m   4466\u001b[0m                         q,\n\u001b[0;32m   4467\u001b[0m                         axis\u001b[39m=\u001b[39m\u001b[39mNone\u001b[39;00m,\n\u001b[1;32m   (...)\u001b[0m\n\u001b[0;32m   4470\u001b[0m                         method\u001b[39m=\u001b[39m\u001b[39m\"\u001b[39m\u001b[39mlinear\u001b[39m\u001b[39m\"\u001b[39m,\n\u001b[0;32m   4471\u001b[0m                         keepdims\u001b[39m=\u001b[39m\u001b[39mFalse\u001b[39;00m):\n\u001b[0;32m   4472\u001b[0m \u001b[39m    \u001b[39m\u001b[39m\"\"\"Assumes that q is in [0, 1], and is an ndarray\"\"\"\u001b[39;00m\n\u001b[1;32m-> 4473\u001b[0m     \u001b[39mreturn\u001b[39;00m _ureduce(a,\n\u001b[0;32m   4474\u001b[0m                     func\u001b[39m=\u001b[39;49m_quantile_ureduce_func,\n\u001b[0;32m   4475\u001b[0m                     q\u001b[39m=\u001b[39;49mq,\n\u001b[0;32m   4476\u001b[0m                     keepdims\u001b[39m=\u001b[39;49mkeepdims,\n\u001b[0;32m   4477\u001b[0m                     axis\u001b[39m=\u001b[39;49maxis,\n\u001b[0;32m   4478\u001b[0m                     out\u001b[39m=\u001b[39;49mout,\n\u001b[0;32m   4479\u001b[0m                     overwrite_input\u001b[39m=\u001b[39;49moverwrite_input,\n\u001b[0;32m   4480\u001b[0m                     method\u001b[39m=\u001b[39;49mmethod)\n",
      "File \u001b[1;32mc:\\Users\\Jakob\\anaconda3\\envs\\cv-env\\lib\\site-packages\\numpy\\lib\\function_base.py:3752\u001b[0m, in \u001b[0;36m_ureduce\u001b[1;34m(a, func, keepdims, **kwargs)\u001b[0m\n\u001b[0;32m   3749\u001b[0m             index_out \u001b[39m=\u001b[39m (\u001b[39m0\u001b[39m, ) \u001b[39m*\u001b[39m nd\n\u001b[0;32m   3750\u001b[0m             kwargs[\u001b[39m'\u001b[39m\u001b[39mout\u001b[39m\u001b[39m'\u001b[39m] \u001b[39m=\u001b[39m out[(\u001b[39mEllipsis\u001b[39m, ) \u001b[39m+\u001b[39m index_out]\n\u001b[1;32m-> 3752\u001b[0m r \u001b[39m=\u001b[39m func(a, \u001b[39m*\u001b[39m\u001b[39m*\u001b[39mkwargs)\n\u001b[0;32m   3754\u001b[0m \u001b[39mif\u001b[39;00m out \u001b[39mis\u001b[39;00m \u001b[39mnot\u001b[39;00m \u001b[39mNone\u001b[39;00m:\n\u001b[0;32m   3755\u001b[0m     \u001b[39mreturn\u001b[39;00m out\n",
      "File \u001b[1;32mc:\\Users\\Jakob\\anaconda3\\envs\\cv-env\\lib\\site-packages\\numpy\\lib\\function_base.py:4639\u001b[0m, in \u001b[0;36m_quantile_ureduce_func\u001b[1;34m(a, q, axis, out, overwrite_input, method)\u001b[0m\n\u001b[0;32m   4637\u001b[0m     \u001b[39melse\u001b[39;00m:\n\u001b[0;32m   4638\u001b[0m         arr \u001b[39m=\u001b[39m a\u001b[39m.\u001b[39mcopy()\n\u001b[1;32m-> 4639\u001b[0m result \u001b[39m=\u001b[39m _quantile(arr,\n\u001b[0;32m   4640\u001b[0m                    quantiles\u001b[39m=\u001b[39;49mq,\n\u001b[0;32m   4641\u001b[0m                    axis\u001b[39m=\u001b[39;49maxis,\n\u001b[0;32m   4642\u001b[0m                    method\u001b[39m=\u001b[39;49mmethod,\n\u001b[0;32m   4643\u001b[0m                    out\u001b[39m=\u001b[39;49mout)\n\u001b[0;32m   4644\u001b[0m \u001b[39mreturn\u001b[39;00m result\n",
      "File \u001b[1;32mc:\\Users\\Jakob\\anaconda3\\envs\\cv-env\\lib\\site-packages\\numpy\\lib\\function_base.py:4737\u001b[0m, in \u001b[0;36m_quantile\u001b[1;34m(arr, quantiles, axis, method, out)\u001b[0m\n\u001b[0;32m   4733\u001b[0m previous_indexes, next_indexes \u001b[39m=\u001b[39m _get_indexes(arr,\n\u001b[0;32m   4734\u001b[0m                                               virtual_indexes,\n\u001b[0;32m   4735\u001b[0m                                               values_count)\n\u001b[0;32m   4736\u001b[0m \u001b[39m# --- Sorting\u001b[39;00m\n\u001b[1;32m-> 4737\u001b[0m arr\u001b[39m.\u001b[39;49mpartition(\n\u001b[0;32m   4738\u001b[0m     np\u001b[39m.\u001b[39;49munique(np\u001b[39m.\u001b[39;49mconcatenate(([\u001b[39m0\u001b[39;49m, \u001b[39m-\u001b[39;49m\u001b[39m1\u001b[39;49m],\n\u001b[0;32m   4739\u001b[0m                               previous_indexes\u001b[39m.\u001b[39;49mravel(),\n\u001b[0;32m   4740\u001b[0m                               next_indexes\u001b[39m.\u001b[39;49mravel(),\n\u001b[0;32m   4741\u001b[0m                               ))),\n\u001b[0;32m   4742\u001b[0m     axis\u001b[39m=\u001b[39;49mDATA_AXIS)\n\u001b[0;32m   4743\u001b[0m \u001b[39mif\u001b[39;00m np\u001b[39m.\u001b[39missubdtype(arr\u001b[39m.\u001b[39mdtype, np\u001b[39m.\u001b[39minexact):\n\u001b[0;32m   4744\u001b[0m     slices_having_nans \u001b[39m=\u001b[39m np\u001b[39m.\u001b[39misnan(\n\u001b[0;32m   4745\u001b[0m         take(arr, indices\u001b[39m=\u001b[39m\u001b[39m-\u001b[39m\u001b[39m1\u001b[39m, axis\u001b[39m=\u001b[39mDATA_AXIS)\n\u001b[0;32m   4746\u001b[0m     )\n",
      "\u001b[1;31mKeyboardInterrupt\u001b[0m: "
     ]
    }
   ],
   "source": [
    "vol = jlc.load_tifvol(filenames[0])\n",
    "vol = vol[:,:,:vol.shape[2]//2].astype(float)\n",
    "vol = norm_quantile(vol,alpha=0.001,clip=True)\n",
    "coefs = estimate_bias_coefs(vol)\n",
    "vol *= coefs.reshape(-1,1,1)\n",
    "bias = estimate_bias(vol)\n",
    "vol -= bias\n",
    "vol = norm_quantile(vol,alpha=0.001,clip=True)\n",
    "vol,best_translation = norm_translation(vol)"
   ]
  },
  {
   "cell_type": "code",
   "execution_count": 4,
   "metadata": {},
   "outputs": [],
   "source": [
    "images = []\n",
    "for filename in filenames:\n",
    "    vol = jlc.load_tifvol(filename.replace(\"data\",\"data_processed\"))\n",
    "    images.append(vol[vol.shape[0]//2,:,:vol.shape[2]//2].astype(float))\n",
    "jlc.montage(images)"
   ]
  },
  {
   "cell_type": "code",
   "execution_count": 10,
   "metadata": {},
   "outputs": [],
   "source": [
    "jlc.montage([np.clip(im,0,1000) for im in images])"
   ]
  },
  {
   "cell_type": "code",
   "execution_count": 3,
   "metadata": {},
   "outputs": [
    {
     "name": "stdout",
     "output_type": "stream",
     "text": [
      "done with frame 0/414\n",
      "done with frame 50/414\n",
      "done with frame 100/414\n",
      "done with frame 150/414\n",
      "done with frame 200/414\n",
      "done with frame 250/414\n",
      "done with frame 300/414\n",
      "done with frame 350/414\n",
      "done with frame 400/414\n",
      "done with  data\\YCsgA_Exp2_Pos1.tif\n",
      "done with frame 0/414\n",
      "done with frame 50/414\n",
      "done with frame 100/414\n",
      "done with frame 150/414\n",
      "done with frame 200/414\n",
      "done with frame 250/414\n",
      "done with frame 300/414\n",
      "done with frame 350/414\n",
      "done with frame 400/414\n",
      "done with  data\\YCsgA_Exp2_Pos2.tif\n",
      "done with frame 0/414\n",
      "done with frame 50/414\n",
      "done with frame 100/414\n",
      "done with frame 150/414\n",
      "done with frame 200/414\n",
      "done with frame 250/414\n",
      "done with frame 300/414\n",
      "done with frame 350/414\n",
      "done with frame 400/414\n",
      "done with  data\\YCsgA_Exp2_Pos3.tif\n",
      "done with frame 0/414\n",
      "done with frame 50/414\n",
      "done with frame 100/414\n",
      "done with frame 150/414\n",
      "done with frame 200/414\n",
      "done with frame 250/414\n",
      "done with frame 300/414\n",
      "done with frame 350/414\n",
      "done with frame 400/414\n",
      "done with  data\\YCsgA_Exp2_Pos4.tif\n",
      "done with frame 0/360\n",
      "done with frame 50/360\n",
      "done with frame 100/360\n",
      "done with frame 150/360\n",
      "done with frame 200/360\n",
      "done with frame 250/360\n",
      "done with frame 300/360\n",
      "done with frame 350/360\n",
      "done with  data\\YCsgA_Exp3_Pos1.tif\n",
      "done with frame 0/360\n",
      "done with frame 50/360\n",
      "done with frame 100/360\n",
      "done with frame 150/360\n",
      "done with frame 200/360\n",
      "done with frame 250/360\n",
      "done with frame 300/360\n",
      "done with frame 350/360\n",
      "done with  data\\YCsgA_Exp3_Pos2.tif\n",
      "done with frame 0/360\n",
      "done with frame 50/360\n",
      "done with frame 100/360\n",
      "done with frame 150/360\n",
      "done with frame 200/360\n",
      "done with frame 250/360\n",
      "done with frame 300/360\n",
      "done with frame 350/360\n",
      "done with  data\\YCsgA_Exp3_Pos3.tif\n",
      "done with frame 0/360\n",
      "done with frame 50/360\n",
      "done with frame 100/360\n",
      "done with frame 150/360\n",
      "done with frame 200/360\n",
      "done with frame 250/360\n",
      "done with frame 300/360\n",
      "done with frame 350/360\n",
      "done with  data\\YCsgA_Exp3_Pos4.tif\n"
     ]
    }
   ],
   "source": [
    "#process and save\n",
    "for filename in filenames:\n",
    "    savename = filename.replace(\"data\",\"data_processed2\")\n",
    "    os.makedirs(os.path.dirname(savename),exist_ok=True)\n",
    "    jlc.save_tifvol(process_vol(filename),savename)\n",
    "    print(\"done with \",filename)"
   ]
  },
  {
   "cell_type": "code",
   "execution_count": 4,
   "metadata": {},
   "outputs": [
    {
     "name": "stdout",
     "output_type": "stream",
     "text": [
      "['data_processed\\\\YCsgA_Exp2_Pos1.tif']\n"
     ]
    }
   ],
   "source": [
    "filenames = list(Path(\"./data_processed/\").glob(\"*.tif\"))\n",
    "filenames = [str(f) for f in filenames]\n",
    "print(filenames)"
   ]
  },
  {
   "cell_type": "code",
   "execution_count": null,
   "metadata": {},
   "outputs": [],
   "source": [
    "#4,5,6,7: weird in the start\n",
    "#2: one bad frame in start\n"
   ]
  },
  {
   "cell_type": "code",
   "execution_count": 7,
   "metadata": {},
   "outputs": [],
   "source": [
    "vol = jlc.load_tifvol(filenames[0].replace(\"data\",\"data_processed\"))\n",
    "jlc.inspect_vol(vol.transpose(0,2,1))"
   ]
  },
  {
   "cell_type": "code",
   "execution_count": 64,
   "metadata": {},
   "outputs": [],
   "source": [
    "\n",
    "\n"
   ]
  },
  {
   "cell_type": "code",
   "execution_count": null,
   "metadata": {},
   "outputs": [],
   "source": [
    "from utils import FiberGraph\n",
    "\n",
    "fiber_graph = FiberGraph()\n",
    "n = 10\n",
    "for i in range(100):\n",
    "    fiber_graph.add_node(np.random.rand()*n,np.random.rand()*n,i)\n",
    "\n",
    "\n",
    "plt.imshow(np.zeros((n,n)),cmap=\"gray\",extent=[0,n,0,n])\n",
    "fiber_graph.plot()"
   ]
  },
  {
   "cell_type": "code",
   "execution_count": 28,
   "metadata": {},
   "outputs": [
    {
     "name": "stdout",
     "output_type": "stream",
     "text": [
      "(2, 684, 428)\n",
      "(2, 684, 428)\n",
      "(3, 684, 428)\n"
     ]
    }
   ],
   "source": [
    "from structure_tensor import eig_special_2d, structure_tensor_2d\n",
    "image = vol[200]\n",
    "\n",
    "sigma = 1\n",
    "rho = 3\n",
    "S = structure_tensor_2d(image, sigma, rho)\n",
    "val, vec = eig_special_2d(S)\n",
    "\n",
    "print(val.shape)\n",
    "print(vec.shape)\n",
    "print(S.shape)"
   ]
  },
  {
   "cell_type": "code",
   "execution_count": 29,
   "metadata": {},
   "outputs": [
    {
     "data": {
      "text/plain": [
       "<matplotlib.image.AxesImage at 0x24b3e87f670>"
      ]
     },
     "execution_count": 29,
     "metadata": {},
     "output_type": "execute_result"
    }
   ],
   "source": [
    "plt.figure(figsize=(15, 15))\n",
    "plt.subplot(221)\n",
    "plt.imshow(image.transpose(1,0),cmap=\"gray\")\n",
    "plt.subplot(222)\n",
    "val3 = np.concatenate((norm_quantile(val[0,:,:,None],alpha=0.01),\n",
    "                       norm_quantile(val[1,:,:,None],alpha=0.01),\n",
    "                       0*val[1,:,:,None]),axis=2)\n",
    "plt.imshow(val3.transpose(1,0,2))\n",
    "plt.subplot(223)\n",
    "vec3 = np.concatenate((norm_quantile(vec[0,:,:,None],alpha=0.01),\n",
    "                       norm_quantile(vec[1,:,:,None],alpha=0.01),\n",
    "                       0*vec[1,:,:,None]),axis=2)\n",
    "plt.imshow(vec3.transpose(1,0,2))\n",
    "plt.subplot(224)\n",
    "S3 = norm_quantile(S.transpose(2,1,0),alpha=0.01)\n",
    "plt.imshow(S3)"
   ]
  },
  {
   "cell_type": "code",
   "execution_count": 105,
   "metadata": {},
   "outputs": [],
   "source": [
    "vol = jlc.load_tifvol(filenames[0].replace(\"data\",\"data_processed\"))\n",
    "vol = scipy.ndimage.gaussian_filter(vol, sigma=(0, 0.7, 0.7))\n",
    "jlc.inspect_vol(soft_threshold(vol.transpose(0,2,1),0.1,0.2))"
   ]
  },
  {
   "cell_type": "code",
   "execution_count": 6,
   "metadata": {},
   "outputs": [],
   "source": [
    "vol = jlc.load_tifvol(filenames[0].replace(\"data\",\"data_processed\"))\n",
    "vol = vol[:,200:300,200:350]\n",
    "#vol = scipy.ndimage.gaussian_filter(vol, sigma=(0, 1, 1))\n",
    "#nereast\n",
    "vol = scipy.ndimage.median_filter(vol, size=(9,1,1), mode='nearest')\n",
    "\n",
    "#"
   ]
  },
  {
   "cell_type": "code",
   "execution_count": 26,
   "metadata": {},
   "outputs": [
    {
     "data": {
      "text/plain": [
       "(100, 150)"
      ]
     },
     "execution_count": 26,
     "metadata": {},
     "output_type": "execute_result"
    }
   ],
   "source": [
    "# TODO\n",
    "# Favor newer fibers when figuring out fiber origin\n",
    "# filter out fibers that moved/dissapeard\n",
    "# add calculation for fiber direction and include it in fiber origin selection\n",
    "# dont let fibers do tiny branches"
   ]
  },
  {
   "cell_type": "code",
   "execution_count": 102,
   "metadata": {},
   "outputs": [],
   "source": [
    "from utils import FiberGraph\n",
    "n = 100\n",
    "fiber_graph = FiberGraph(radius=2)\n",
    "\"\"\"for i in range(10):\n",
    "    x,y = np.random.randint(n),np.random.randint(n)\n",
    "    fiber_graph.add_node(x,y,i)\n",
    "\"\"\"\n",
    "mf = vol.shape[0]\n",
    "fiber_graph.process_vol(vol,max_frames=mf)\n",
    "plt.imshow(vol[mf-1],cmap=\"gray\")\n",
    "fiber_graph.plot()"
   ]
  },
  {
   "cell_type": "code",
   "execution_count": 101,
   "metadata": {},
   "outputs": [],
   "source": [
    "\n",
    "\n",
    "inspect_fiber_vol(vol,fiber_graph=fiber_graph)"
   ]
  },
  {
   "cell_type": "code",
   "execution_count": null,
   "metadata": {},
   "outputs": [],
   "source": [
    "jlc.inspect_vol()"
   ]
  },
  {
   "cell_type": "code",
   "execution_count": 62,
   "metadata": {},
   "outputs": [
    {
     "data": {
      "text/plain": [
       "<matplotlib.image.AxesImage at 0x2095d4c55d0>"
      ]
     },
     "execution_count": 62,
     "metadata": {},
     "output_type": "execute_result"
    }
   ],
   "source": [
    "plt.imshow(fiber_graph.mask_out_func())"
   ]
  },
  {
   "cell_type": "code",
   "execution_count": 12,
   "metadata": {},
   "outputs": [],
   "source": [
    "jlc.inspect_vol(soft_threshold(vol,0.1,0.2))"
   ]
  },
  {
   "cell_type": "code",
   "execution_count": 41,
   "metadata": {},
   "outputs": [
    {
     "data": {
      "text/plain": [
       "<matplotlib.image.AxesImage at 0x2eb61e39960>"
      ]
     },
     "execution_count": 41,
     "metadata": {},
     "output_type": "execute_result"
    }
   ],
   "source": [
    "\n",
    "plt.imshow(strict_local_max((vol[100]>0.15)*vol[100]),cmap=\"gray\")"
   ]
  },
  {
   "cell_type": "code",
   "execution_count": 43,
   "metadata": {},
   "outputs": [
    {
     "data": {
      "text/plain": [
       "0.4867522559599717"
      ]
     },
     "execution_count": 43,
     "metadata": {},
     "output_type": "execute_result"
    }
   ],
   "source": [
    "#find gaussian bell curve value at +1sigma:\n",
    "gaussian = lambda x: np.exp(-x**2/2)\n",
    "gaussian(1.2)/gaussian(0)"
   ]
  },
  {
   "cell_type": "code",
   "execution_count": 36,
   "metadata": {},
   "outputs": [
    {
     "data": {
      "text/plain": [
       "<matplotlib.image.AxesImage at 0x2eb5a7954e0>"
      ]
     },
     "execution_count": 36,
     "metadata": {},
     "output_type": "execute_result"
    }
   ],
   "source": [
    "plt.imshow((vol[100]>0.15)*vol[100])"
   ]
  },
  {
   "cell_type": "code",
   "execution_count": 34,
   "metadata": {},
   "outputs": [],
   "source": [
    "jlc.inspect_vol(vol>0.15)"
   ]
  },
  {
   "cell_type": "code",
   "execution_count": 33,
   "metadata": {},
   "outputs": [
    {
     "data": {
      "text/plain": [
       "<matplotlib.image.AxesImage at 0x2eb5a574b20>"
      ]
     },
     "execution_count": 33,
     "metadata": {},
     "output_type": "execute_result"
    }
   ],
   "source": [
    "#structure = get_disc_2d(1)\n",
    "i = 0\n",
    "structure = np.ones((2,2))\n",
    "plt.subplot(221)\n",
    "plt.imshow(vol[i]>0.15)\n",
    "closed = scipy.ndimage.binary_opening(vol[i]>0.15,structure=structure,iterations=1)\n",
    "plt.subplot(222)\n",
    "plt.imshow(closed)\n",
    "plt.subplot(223)\n",
    "plt.imshow(vol[i])"
   ]
  },
  {
   "cell_type": "code",
   "execution_count": 31,
   "metadata": {},
   "outputs": [
    {
     "name": "stderr",
     "output_type": "stream",
     "text": [
      "Clipping input data to the valid range for imshow with RGB data ([0..1] for floats or [0..255] for integers).\n"
     ]
    },
    {
     "data": {
      "text/plain": [
       "<matplotlib.image.AxesImage at 0x2eb53d659c0>"
      ]
     },
     "execution_count": 31,
     "metadata": {},
     "output_type": "execute_result"
    }
   ],
   "source": [
    "vol200 = np.concatenate([vol[200,:,:,None]]*3,2)\n",
    "vol200[:,:,1][closed==True] *= 0\n",
    "vol200[:,:,2][closed==True] *= 0 \n",
    "plt.imshow(vol200*3)  "
   ]
  }
 ],
 "metadata": {
  "kernelspec": {
   "display_name": "cv-env",
   "language": "python",
   "name": "python3"
  },
  "language_info": {
   "codemirror_mode": {
    "name": "ipython",
    "version": 3
   },
   "file_extension": ".py",
   "mimetype": "text/x-python",
   "name": "python",
   "nbconvert_exporter": "python",
   "pygments_lexer": "ipython3",
   "version": "3.10.11"
  }
 },
 "nbformat": 4,
 "nbformat_minor": 2
}
