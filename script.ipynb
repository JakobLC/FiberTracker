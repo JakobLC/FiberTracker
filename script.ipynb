{
 "cells": [
  {
   "cell_type": "code",
   "execution_count": 1,
   "metadata": {},
   "outputs": [],
   "source": [
    "%load_ext autoreload\n",
    "%autoreload 2\n",
    "%matplotlib qt5\n",
    "import matplotlib.pyplot as plt\n",
    "import numpy as np\n",
    "import jlc\n",
    "import scipy\n",
    "import cv2\n",
    "from utils import estimate_bias, estimate_bias_coefs,norm_quantile"
   ]
  },
  {
   "cell_type": "code",
   "execution_count": 2,
   "metadata": {},
   "outputs": [],
   "source": [
    "vol = jlc.load_tifvol(\"./YCsgA_Exp2_Pos1.tif\")\n",
    "vol = vol[:,:,:vol.shape[2]//2].astype(float)\n",
    "vol = norm_quantile(vol,alpha=0.001,clip=True)\n",
    "coefs = estimate_bias_coefs(vol)\n",
    "vol *= coefs.reshape(-1,1,1)\n",
    "bias = estimate_bias(vol)\n",
    "vol -= bias[None]\n",
    "vol = norm_quantile(vol,alpha=0.001,clip=True)"
   ]
  },
  {
   "cell_type": "code",
   "execution_count": 3,
   "metadata": {},
   "outputs": [],
   "source": [
    "jlc.inspect_vol(vol)"
   ]
  },
  {
   "cell_type": "code",
   "execution_count": 163,
   "metadata": {},
   "outputs": [
    {
     "data": {
      "text/plain": [
       "<matplotlib.image.AxesImage at 0x1d093c64280>"
      ]
     },
     "execution_count": 163,
     "metadata": {},
     "output_type": "execute_result"
    }
   ],
   "source": [
    "frame1 = vol[100]\n",
    "frame2 = vol[300]\n",
    "plt.figure(figsize=(10,5))\n",
    "plt.subplot(131)\n",
    "plt.imshow(frame1, cmap='gray')\n",
    "plt.subplot(132)\n",
    "plt.imshow(frame2, cmap='gray')\n",
    "plt.subplot(133)\n",
    "plt.imshow(np.concatenate((frame1[:,:,None],\n",
    "                           frame2[:,:,None], \n",
    "                           frame2[:,:,None]*0), axis=2), cmap='gray')"
   ]
  },
  {
   "cell_type": "code",
   "execution_count": 167,
   "metadata": {},
   "outputs": [
    {
     "name": "stdout",
     "output_type": "stream",
     "text": [
      "Best translation: (-2, 4)\n"
     ]
    }
   ],
   "source": [
    "\n",
    "#translate_search = np.linspace(-5,5,51)\n",
    "translate_search = np.arange(-5,5+1)\n",
    "use_sq_err = True\n",
    "max_corr = -float('inf')\n",
    "best_translation = (0, 0)\n",
    "corr_mat = np.zeros((len(translate_search), len(translate_search)))\n",
    "for x in translate_search:\n",
    "    for y in translate_search:\n",
    "        translation = np.float32([[1,0,x],[0,1,y]])\n",
    "        frame2_translated = cv2.warpAffine(frame2, translation, (frame2.shape[1], frame2.shape[0]), flags=cv2.INTER_LINEAR,borderMode=cv2.BORDER_REPLICATE)\n",
    "        if use_sq_err:\n",
    "            corr = -np.mean((frame1-frame2_translated)**2)\n",
    "        else:\n",
    "            corr = np.corrcoef(frame1.flatten(), frame2_translated.flatten())[0,1]\n",
    "        corr_mat[translate_search==x, translate_search==y] = corr\n",
    "        if corr > max_corr:\n",
    "            max_corr = corr\n",
    "            best_translation = (x, y)\n",
    "\n",
    "print(\"Best translation:\", best_translation)\n"
   ]
  },
  {
   "cell_type": "code",
   "execution_count": 165,
   "metadata": {},
   "outputs": [
    {
     "name": "stdout",
     "output_type": "stream",
     "text": [
      "Max idx: (16, 44)\n",
      "Best x: -1.7999999999999998\n",
      "Best y: 3.8000000000000007\n"
     ]
    }
   ],
   "source": [
    "corr_mat_g = scipy.ndimage.gaussian_filter(corr_mat,sigma=3)\n",
    "#find max idx\n",
    "max_idx = np.unravel_index(np.argmax(corr_mat_g), corr_mat_g.shape)\n",
    "print(\"Max idx:\", max_idx)\n",
    "print(\"Best x:\", translate_search[max_idx[0]])\n",
    "print(\"Best y:\", translate_search[max_idx[1]])"
   ]
  },
  {
   "cell_type": "code",
   "execution_count": null,
   "metadata": {},
   "outputs": [],
   "source": [
    "corr_mat_big = cv2.resize(corr_mat, (0,0), fx=10, fy=10, interpolation=cv2.INTER_LANCZOS4)\n",
    "d = translate_search[1] - translate_search[0]\n",
    "translate_search_big = np.linspace(translate_search[0] -d/2,\n",
    "                                   translate_search[-1]+d/2,corr_mat_big.shape[0])\n",
    "#rainbow colors\n",
    "plt.imshow(corr_mat_big, cmap='jet')\n",
    "_=plt.xticks(np.arange(0,len(translate_search_big)), np.round(translate_search_big, 2))\n",
    "_=plt.yticks(np.arange(0,len(translate_search_big)), np.round(translate_search_big, 2))"
   ]
  },
  {
   "cell_type": "code",
   "execution_count": 186,
   "metadata": {},
   "outputs": [
    {
     "name": "stdout",
     "output_type": "stream",
     "text": [
      "Max idx: (37, 91)\n",
      "Best x: -1.7660550458715596\n",
      "Best y: 3.68348623853211\n"
     ]
    }
   ],
   "source": [
    "max_idx = np.unravel_index(np.argmax(corr_mat_big), corr_mat_big.shape)\n",
    "print(\"Max idx:\", max_idx)\n",
    "print(\"Best x:\", translate_search_big[max_idx[0]])\n",
    "print(\"Best y:\", translate_search_big[max_idx[1]])"
   ]
  },
  {
   "cell_type": "code",
   "execution_count": 190,
   "metadata": {},
   "outputs": [
    {
     "data": {
      "text/plain": [
       "<matplotlib.image.AxesImage at 0x1d09c2d9e70>"
      ]
     },
     "execution_count": 190,
     "metadata": {},
     "output_type": "execute_result"
    }
   ],
   "source": [
    "translation = np.float32([[1,0,translate_search_big[max_idx[0]]],\n",
    "                          [0,1,translate_search_big[max_idx[1]]]])\n",
    "frame2_translated = cv2.warpAffine(frame2, translation, (frame2.shape[1], frame2.shape[0]), flags=cv2.INTER_LINEAR,borderMode=cv2.BORDER_REPLICATE)\n",
    "plt.figure(figsize=(10,5))\n",
    "plt.subplot(131)\n",
    "plt.imshow(frame1, cmap='gray')\n",
    "plt.subplot(132)\n",
    "plt.imshow(frame2_translated, cmap='gray')\n",
    "plt.subplot(133)\n",
    "plt.imshow(np.concatenate((frame1[:,:,None],\n",
    "                           frame2_translated[:,:,None], \n",
    "                           frame2_translated[:,:,None]*0), axis=2), cmap='gray')"
   ]
  },
  {
   "cell_type": "code",
   "execution_count": null,
   "metadata": {},
   "outputs": [
    {
     "name": "stdout",
     "output_type": "stream",
     "text": [
      "Max idx: (16, 44)\n",
      "Best x: -1.7999999999999998\n",
      "Best y: 3.8000000000000007\n"
     ]
    }
   ],
   "source": [
    "corr_mat_g = scipy.ndimage.gaussian_filter(corr_mat,sigma=3)\n",
    "#find max idx\n",
    "max_idx = np.unravel_index(np.argmax(corr_mat_g), corr_mat_g.shape)\n",
    "print(\"Max idx:\", max_idx)\n",
    "print(\"Best x:\", translate_search[max_idx[0]])\n",
    "print(\"Best y:\", translate_search[max_idx[1]])"
   ]
  },
  {
   "cell_type": "code",
   "execution_count": 168,
   "metadata": {},
   "outputs": [],
   "source": [
    "plt.imshow(corr_mat)\n",
    "plt.colorbar()\n",
    "_=plt.xticks(np.arange(0,len(translate_search)), np.round(translate_search, 2))\n",
    "_=plt.yticks(np.arange(0,len(translate_search)), np.round(translate_search, 2))"
   ]
  },
  {
   "cell_type": "code",
   "execution_count": 44,
   "metadata": {},
   "outputs": [
    {
     "data": {
      "text/plain": [
       "<matplotlib.image.AxesImage at 0x1d01bd45fc0>"
      ]
     },
     "execution_count": 44,
     "metadata": {},
     "output_type": "execute_result"
    }
   ],
   "source": [
    "plt.imshow(scipy.ndimage.gaussian_filter(vol[:,:,300], sigma=(0,3)))"
   ]
  },
  {
   "cell_type": "code",
   "execution_count": 153,
   "metadata": {},
   "outputs": [],
   "source": [
    "def soft_threshold(start=0,stop=1,power=1): \n",
    "    to_interval = lambda x: np.clip((x-start)/(stop-start),0,1)\n",
    "    return lambda x: h(to_interval(x),power)\n",
    "def h(x,p):\n",
    "    return (x<0.5)*0.5*2**p*x**p+(x>=0.5)*(1-0.5*2**p*(1-x)**p)\n",
    "\n",
    "t = np.linspace(-1,2,300)\n",
    "for p in [0.5,1,2,3]:\n",
    "    f = soft_threshold(0,1,p)\n",
    "    plt.plot(t,f(t))"
   ]
  },
  {
   "cell_type": "code",
   "execution_count": 155,
   "metadata": {},
   "outputs": [],
   "source": [
    "jlc.inspect_vol(soft_threshold(0.1,0.3,2)(vol))"
   ]
  },
  {
   "cell_type": "code",
   "execution_count": 5,
   "metadata": {},
   "outputs": [
    {
     "name": "stdout",
     "output_type": "stream",
     "text": [
      "done with frame 0/414\n",
      "done with frame 50/414\n",
      "done with frame 100/414\n",
      "done with frame 150/414\n",
      "done with frame 200/414\n",
      "done with frame 250/414\n",
      "done with frame 300/414\n",
      "done with frame 350/414\n",
      "done with frame 400/414\n"
     ]
    }
   ],
   "source": [
    "translate_search = np.arange(-8,8+1)\n",
    "slice_x = slice(None)\n",
    "slice_y = slice(None)\n",
    "sigma = 0\n",
    "upscale = 10\n",
    "frame1 = vol[int(vol.shape[0]*0.5):int(vol.shape[0]*0.5)+1].mean(0)[slice_x,slice_y]\n",
    "d = translate_search[1] - translate_search[0]\n",
    "translate_search_big = np.linspace(translate_search[0] -d/2,\n",
    "                                   translate_search[-1]+d/2,upscale*len(translate_search))\n",
    "corr_mat = np.zeros((len(translate_search), len(translate_search)))\n",
    "if sigma>0:\n",
    "    frame1 = scipy.ndimage.gaussian_filter(frame1, sigma)\n",
    "best_translation = []\n",
    "for f_i in range(vol.shape[0]):\n",
    "    max_corr = -float('inf')\n",
    "    for x in translate_search:\n",
    "        for y in translate_search:  \n",
    "            frame2 = vol[f_i, slice_x, slice_y]\n",
    "            translation = np.float32([[1,0,x],[0,1,y]])\n",
    "            frame2_translated = cv2.warpAffine(frame2, translation, (frame2.shape[1], frame2.shape[0]), flags=cv2.INTER_LINEAR,borderMode=cv2.BORDER_REPLICATE)\n",
    "            if sigma>0:\n",
    "                frame2_translated_g = scipy.ndimage.gaussian_filter(frame2_translated, sigma)\n",
    "            else:\n",
    "                frame2_translated_g = frame2_translated\n",
    "            corr = -np.mean((frame1-frame2_translated_g)**2)\n",
    "            corr_mat[translate_search==x, translate_search==y] = corr\n",
    "    corr_mat_big = cv2.resize(corr_mat, (0,0), fx=upscale, fy=upscale, interpolation=cv2.INTER_LANCZOS4)        \n",
    "    max_idx = np.unravel_index(np.argmax(corr_mat_big), corr_mat_big.shape)\n",
    "    best_translation.append((translate_search_big[max_idx[0]],translate_search_big[max_idx[1]]))\n",
    "    if f_i%50==0:\n",
    "        print(f\"done with frame {f_i}/{vol.shape[0]-1}\")\n"
   ]
  },
  {
   "cell_type": "code",
   "execution_count": 17,
   "metadata": {},
   "outputs": [
    {
     "data": {
      "text/plain": [
       "0.12203762247255061"
      ]
     },
     "execution_count": 17,
     "metadata": {},
     "output_type": "execute_result"
    }
   ],
   "source": []
  },
  {
   "cell_type": "code",
   "execution_count": 22,
   "metadata": {},
   "outputs": [
    {
     "ename": "MemoryError",
     "evalue": "Unable to allocate 927. MiB for an array with shape (415, 684, 428) and data type float64",
     "output_type": "error",
     "traceback": [
      "\u001b[1;31m---------------------------------------------------------------------------\u001b[0m",
      "\u001b[1;31mMemoryError\u001b[0m                               Traceback (most recent call last)",
      "\u001b[1;32mc:\\Users\\Jakob\\Desktop\\DTU\\William\\script.ipynb Cell 17\u001b[0m line \u001b[0;36m1\n\u001b[1;32m----> <a href='vscode-notebook-cell:/c%3A/Users/Jakob/Desktop/DTU/William/script.ipynb#Y204sZmlsZQ%3D%3D?line=0'>1</a>\u001b[0m jlc\u001b[39m.\u001b[39minspect_vol((vol\u001b[39m+\u001b[39;49mbias)\u001b[39m/\u001b[39;49m(bias\u001b[39m+\u001b[39;49mbias\u001b[39m.\u001b[39;49mmean()\u001b[39m/\u001b[39;49m\u001b[39m3\u001b[39;49m),vmin\u001b[39m=\u001b[39m\u001b[39m0\u001b[39m,vmax\u001b[39m=\u001b[39m\u001b[39m3\u001b[39m)\n",
      "\u001b[1;31mMemoryError\u001b[0m: Unable to allocate 927. MiB for an array with shape (415, 684, 428) and data type float64"
     ]
    }
   ],
   "source": [
    "jlc.inspect_vol((vol+bias)/(bias+bias.mean()/3),vmin=0,vmax=3)"
   ]
  },
  {
   "cell_type": "code",
   "execution_count": 6,
   "metadata": {},
   "outputs": [],
   "source": [
    "translated_vol = np.zeros_like(vol)\n",
    "for f_i in range(len(vol)):\n",
    "    translation = np.float32([[1,0,best_translation[f_i][0]],[0,1,best_translation[f_i][1]]])\n",
    "    translated_vol[f_i] = cv2.warpAffine(vol[f_i], translation, (vol[f_i].shape[1], vol[f_i].shape[0]), flags=cv2.INTER_LINEAR,borderMode=cv2.BORDER_REPLICATE)"
   ]
  },
  {
   "cell_type": "code",
   "execution_count": 7,
   "metadata": {},
   "outputs": [],
   "source": [
    "jlc.inspect_vol(translated_vol.transpose(0,2,1))"
   ]
  },
  {
   "cell_type": "code",
   "execution_count": 205,
   "metadata": {},
   "outputs": [],
   "source": [
    "jlc.inspect_vol(np.concatenate((vol, translated_vol), axis=2))"
   ]
  },
  {
   "cell_type": "code",
   "execution_count": 31,
   "metadata": {},
   "outputs": [
    {
     "data": {
      "text/plain": [
       "[<matplotlib.lines.Line2D at 0x1d01cea7c40>]"
      ]
     },
     "execution_count": 31,
     "metadata": {},
     "output_type": "execute_result"
    }
   ],
   "source": [
    "plt.plot(np.array(best_translation)[:,0], label='x')\n",
    "plt.plot(np.array(best_translation)[:,1], label='y')"
   ]
  },
  {
   "cell_type": "code",
   "execution_count": 100,
   "metadata": {},
   "outputs": [
    {
     "data": {
      "text/plain": [
       "[<matplotlib.lines.Line2D at 0x1fe87db8a60>]"
      ]
     },
     "execution_count": 100,
     "metadata": {},
     "output_type": "execute_result"
    }
   ],
   "source": [
    "from scipy.ndimage import gaussian_filter\n",
    "smooth_translation = np.array(best_translation)\n",
    "smooth_translation = gaussian_filter(smooth_translation, sigma=[3,0])\n",
    "plt.plot(smooth_translation[:,0], label='x')\n",
    "plt.plot(smooth_translation[:,1], label='y')"
   ]
  },
  {
   "cell_type": "code",
   "execution_count": 68,
   "metadata": {},
   "outputs": [
    {
     "data": {
      "text/plain": [
       "[<matplotlib.lines.Line2D at 0x1fe7626d1b0>]"
      ]
     },
     "execution_count": 68,
     "metadata": {},
     "output_type": "execute_result"
    }
   ],
   "source": [
    "plt.plot(np.array(best_translation)[:,0],np.array(best_translation)[:,1])"
   ]
  },
  {
   "cell_type": "code",
   "execution_count": 131,
   "metadata": {},
   "outputs": [
    {
     "data": {
      "text/plain": [
       "<matplotlib.image.AxesImage at 0x1feb45c29b0>"
      ]
     },
     "execution_count": 131,
     "metadata": {},
     "output_type": "execute_result"
    }
   ],
   "source": [
    "plt.imshow(vol[:,:,0])"
   ]
  },
  {
   "cell_type": "code",
   "execution_count": 132,
   "metadata": {},
   "outputs": [
    {
     "data": {
      "text/plain": [
       "(0.021767714915564087, 0.3470474157935479)"
      ]
     },
     "execution_count": 132,
     "metadata": {},
     "output_type": "execute_result"
    }
   ],
   "source": [
    "a = gaussian_filter(vol[200,:,0],2)\n",
    "b = gaussian_filter(vol[205,:,0],2)\n",
    "plt.scatter(a,b)\n",
    "plt.plot([0,1],[0,1],color=\"red\")\n",
    "plt.xlim(min(a.min(),b.min()), max(a.max(),b.max()))\n",
    "plt.ylim(min(a.min(),b.min()), max(a.max(),b.max()))\n",
    "\n"
   ]
  },
  {
   "cell_type": "code",
   "execution_count": 127,
   "metadata": {},
   "outputs": [
    {
     "data": {
      "text/plain": [
       "(684,)"
      ]
     },
     "execution_count": 127,
     "metadata": {},
     "output_type": "execute_result"
    }
   ],
   "source": [
    "b.shape"
   ]
  },
  {
   "cell_type": "code",
   "execution_count": 139,
   "metadata": {},
   "outputs": [
    {
     "data": {
      "text/plain": [
       "[<matplotlib.lines.Line2D at 0x1febabfb730>]"
      ]
     },
     "execution_count": 139,
     "metadata": {},
     "output_type": "execute_result"
    }
   ],
   "source": [
    "plt.plot(a)\n",
    "plt.plot(b)"
   ]
  },
  {
   "cell_type": "code",
   "execution_count": 128,
   "metadata": {},
   "outputs": [
    {
     "data": {
      "text/plain": [
       "[<matplotlib.lines.Line2D at 0x1feb3e9f940>]"
      ]
     },
     "execution_count": 128,
     "metadata": {},
     "output_type": "execute_result"
    }
   ],
   "source": [
    "cc = []\n",
    "for t in translate_search:\n",
    "    b_translated = cv2.warpAffine(b, np.float32([[1,0,t],[0,1,0]]), (1,b.shape[0]), flags=cv2.INTER_LINEAR,borderMode=cv2.BORDER_REPLICATE)[:,0]\n",
    "    corr = np.corrcoef(a,b_translated)[0,1]\n",
    "    cc.append(corr)\n",
    "plt.plot(translate_search, cc)"
   ]
  }
 ],
 "metadata": {
  "kernelspec": {
   "display_name": "cv-env",
   "language": "python",
   "name": "python3"
  },
  "language_info": {
   "codemirror_mode": {
    "name": "ipython",
    "version": 3
   },
   "file_extension": ".py",
   "mimetype": "text/x-python",
   "name": "python",
   "nbconvert_exporter": "python",
   "pygments_lexer": "ipython3",
   "version": "3.10.11"
  }
 },
 "nbformat": 4,
 "nbformat_minor": 2
}
