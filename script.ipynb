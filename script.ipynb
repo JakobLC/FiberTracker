{
 "cells": [
  {
   "cell_type": "code",
   "execution_count": 6,
   "metadata": {},
   "outputs": [
    {
     "name": "stdout",
     "output_type": "stream",
     "text": [
      "The autoreload extension is already loaded. To reload it, use:\n",
      "  %reload_ext autoreload\n"
     ]
    }
   ],
   "source": [
    "%load_ext autoreload\n",
    "%autoreload 2\n",
    "%matplotlib qt5\n",
    "import matplotlib.pyplot as plt\n",
    "import numpy as np\n",
    "import jlc\n",
    "import scipy\n",
    "import cv2\n",
    "from utils import estimate_bias, estimate_bias_coefs,norm_quantile,norm_translation,process_vol,soft_threshold,get_disc_2d,inspect_fiber_vol\n",
    "from pathlib import Path\n",
    "import os"
   ]
  },
  {
   "cell_type": "code",
   "execution_count": 7,
   "metadata": {},
   "outputs": [
    {
     "name": "stdout",
     "output_type": "stream",
     "text": [
      "['data\\\\YCsgA_Exp2_Pos1.tif', 'data\\\\YCsgA_Exp2_Pos2.tif', 'data\\\\YCsgA_Exp2_Pos3.tif', 'data\\\\YCsgA_Exp2_Pos4.tif', 'data\\\\YCsgA_Exp3_Pos1.tif', 'data\\\\YCsgA_Exp3_Pos2.tif', 'data\\\\YCsgA_Exp3_Pos3.tif', 'data\\\\YCsgA_Exp3_Pos4.tif']\n"
     ]
    }
   ],
   "source": [
    "filenames = list(Path(\"./data/\").glob(\"*.tif\"))\n",
    "filenames = [str(f) for f in filenames]\n",
    "print(filenames)"
   ]
  },
  {
   "cell_type": "code",
   "execution_count": null,
   "metadata": {},
   "outputs": [],
   "source": [
    "vol = jlc.load_tifvol(filenames[0])\n",
    "vol = vol[:,:,:vol.shape[2]//2].astype(float)\n",
    "vol = norm_quantile(vol,alpha=0.001,clip=True)\n",
    "coefs = estimate_bias_coefs(vol)\n",
    "vol *= coefs.reshape(-1,1,1)\n",
    "bias = estimate_bias(vol)\n",
    "vol -= bias\n",
    "vol = norm_quantile(vol,alpha=0.001,clip=True)\n",
    "vol,best_translation = norm_translation(vol)"
   ]
  },
  {
   "cell_type": "code",
   "execution_count": 4,
   "metadata": {},
   "outputs": [],
   "source": [
    "images = []\n",
    "for filename in filenames:\n",
    "    vol = jlc.load_tifvol(filename.replace(\"data\",\"data_processed\"))\n",
    "    images.append(vol[vol.shape[0]//2,:,:vol.shape[2]//2].astype(float))\n",
    "jlc.montage(images)"
   ]
  },
  {
   "cell_type": "code",
   "execution_count": 10,
   "metadata": {},
   "outputs": [],
   "source": [
    "jlc.montage([np.clip(im,0,1000) for im in images])"
   ]
  },
  {
   "cell_type": "code",
   "execution_count": 3,
   "metadata": {},
   "outputs": [
    {
     "name": "stdout",
     "output_type": "stream",
     "text": [
      "done with frame 0/414\n",
      "done with frame 50/414\n",
      "done with frame 100/414\n",
      "done with frame 150/414\n",
      "done with frame 200/414\n",
      "done with frame 250/414\n",
      "done with frame 300/414\n",
      "done with frame 350/414\n",
      "done with frame 400/414\n",
      "done with  data\\YCsgA_Exp2_Pos1.tif\n",
      "done with frame 0/414\n",
      "done with frame 50/414\n",
      "done with frame 100/414\n",
      "done with frame 150/414\n",
      "done with frame 200/414\n",
      "done with frame 250/414\n",
      "done with frame 300/414\n",
      "done with frame 350/414\n",
      "done with frame 400/414\n",
      "done with  data\\YCsgA_Exp2_Pos2.tif\n",
      "done with frame 0/414\n",
      "done with frame 50/414\n",
      "done with frame 100/414\n",
      "done with frame 150/414\n",
      "done with frame 200/414\n",
      "done with frame 250/414\n",
      "done with frame 300/414\n",
      "done with frame 350/414\n",
      "done with frame 400/414\n",
      "done with  data\\YCsgA_Exp2_Pos3.tif\n",
      "done with frame 0/414\n",
      "done with frame 50/414\n",
      "done with frame 100/414\n",
      "done with frame 150/414\n",
      "done with frame 200/414\n",
      "done with frame 250/414\n",
      "done with frame 300/414\n",
      "done with frame 350/414\n",
      "done with frame 400/414\n",
      "done with  data\\YCsgA_Exp2_Pos4.tif\n",
      "done with frame 0/360\n",
      "done with frame 50/360\n",
      "done with frame 100/360\n",
      "done with frame 150/360\n",
      "done with frame 200/360\n",
      "done with frame 250/360\n",
      "done with frame 300/360\n",
      "done with frame 350/360\n",
      "done with  data\\YCsgA_Exp3_Pos1.tif\n",
      "done with frame 0/360\n",
      "done with frame 50/360\n",
      "done with frame 100/360\n",
      "done with frame 150/360\n",
      "done with frame 200/360\n",
      "done with frame 250/360\n",
      "done with frame 300/360\n",
      "done with frame 350/360\n",
      "done with  data\\YCsgA_Exp3_Pos2.tif\n",
      "done with frame 0/360\n",
      "done with frame 50/360\n",
      "done with frame 100/360\n",
      "done with frame 150/360\n",
      "done with frame 200/360\n",
      "done with frame 250/360\n",
      "done with frame 300/360\n",
      "done with frame 350/360\n",
      "done with  data\\YCsgA_Exp3_Pos3.tif\n",
      "done with frame 0/360\n",
      "done with frame 50/360\n",
      "done with frame 100/360\n",
      "done with frame 150/360\n",
      "done with frame 200/360\n",
      "done with frame 250/360\n",
      "done with frame 300/360\n",
      "done with frame 350/360\n",
      "done with  data\\YCsgA_Exp3_Pos4.tif\n"
     ]
    }
   ],
   "source": [
    "#process and save\n",
    "for filename in filenames:\n",
    "    savename = filename.replace(\"data\",\"data_processed2\")\n",
    "    os.makedirs(os.path.dirname(savename),exist_ok=True)\n",
    "    jlc.save_tifvol(process_vol(filename),savename)\n",
    "    print(\"done with \",filename)"
   ]
  },
  {
   "cell_type": "code",
   "execution_count": 4,
   "metadata": {},
   "outputs": [
    {
     "name": "stdout",
     "output_type": "stream",
     "text": [
      "['data_processed\\\\YCsgA_Exp2_Pos1.tif']\n"
     ]
    }
   ],
   "source": [
    "filenames = list(Path(\"./data_processed/\").glob(\"*.tif\"))\n",
    "filenames = [str(f) for f in filenames]\n",
    "print(filenames)"
   ]
  },
  {
   "cell_type": "code",
   "execution_count": null,
   "metadata": {},
   "outputs": [],
   "source": [
    "#4,5,6,7: weird in the start\n",
    "#2: one bad frame in start\n"
   ]
  },
  {
   "cell_type": "code",
   "execution_count": 7,
   "metadata": {},
   "outputs": [],
   "source": [
    "vol = jlc.load_tifvol(filenames[0].replace(\"data\",\"data_processed\"))\n",
    "jlc.inspect_vol(vol.transpose(0,2,1))"
   ]
  },
  {
   "cell_type": "code",
   "execution_count": null,
   "metadata": {},
   "outputs": [],
   "source": [
    "from utils import FiberGraph\n",
    "\n",
    "fiber_graph = FiberGraph()\n",
    "n = 10\n",
    "for i in range(100):\n",
    "    fiber_graph.add_node(np.random.rand()*n,np.random.rand()*n,i)\n",
    "\n",
    "\n",
    "plt.imshow(np.zeros((n,n)),cmap=\"gray\",extent=[0,n,0,n])\n",
    "fiber_graph.plot()"
   ]
  },
  {
   "cell_type": "code",
   "execution_count": 28,
   "metadata": {},
   "outputs": [
    {
     "name": "stdout",
     "output_type": "stream",
     "text": [
      "(2, 684, 428)\n",
      "(2, 684, 428)\n",
      "(3, 684, 428)\n"
     ]
    }
   ],
   "source": [
    "from structure_tensor import eig_special_2d, structure_tensor_2d\n",
    "image = vol[200]\n",
    "\n",
    "sigma = 1\n",
    "rho = 3\n",
    "S = structure_tensor_2d(image, sigma, rho)\n",
    "val, vec = eig_special_2d(S)\n",
    "\n",
    "print(val.shape)\n",
    "print(vec.shape)\n",
    "print(S.shape)"
   ]
  },
  {
   "cell_type": "code",
   "execution_count": 29,
   "metadata": {},
   "outputs": [
    {
     "data": {
      "text/plain": [
       "<matplotlib.image.AxesImage at 0x24b3e87f670>"
      ]
     },
     "execution_count": 29,
     "metadata": {},
     "output_type": "execute_result"
    }
   ],
   "source": [
    "plt.figure(figsize=(15, 15))\n",
    "plt.subplot(221)\n",
    "plt.imshow(image.transpose(1,0),cmap=\"gray\")\n",
    "plt.subplot(222)\n",
    "val3 = np.concatenate((norm_quantile(val[0,:,:,None],alpha=0.01),\n",
    "                       norm_quantile(val[1,:,:,None],alpha=0.01),\n",
    "                       0*val[1,:,:,None]),axis=2)\n",
    "plt.imshow(val3.transpose(1,0,2))\n",
    "plt.subplot(223)\n",
    "vec3 = np.concatenate((norm_quantile(vec[0,:,:,None],alpha=0.01),\n",
    "                       norm_quantile(vec[1,:,:,None],alpha=0.01),\n",
    "                       0*vec[1,:,:,None]),axis=2)\n",
    "plt.imshow(vec3.transpose(1,0,2))\n",
    "plt.subplot(224)\n",
    "S3 = norm_quantile(S.transpose(2,1,0),alpha=0.01)\n",
    "plt.imshow(S3)"
   ]
  },
  {
   "cell_type": "code",
   "execution_count": 3,
   "metadata": {},
   "outputs": [],
   "source": [
    "vol = jlc.load_tifvol(filenames[0].replace(\"data\",\"data_processed\"))\n",
    "vol = scipy.ndimage.gaussian_filter(vol, sigma=(0, 0.7, 0.7))\n",
    "jlc.inspect_vol(soft_threshold(vol.transpose(0,2,1),0.1,0.2))"
   ]
  },
  {
   "cell_type": "code",
   "execution_count": 8,
   "metadata": {},
   "outputs": [],
   "source": [
    "vol = jlc.load_tifvol(filenames[4].replace(\"data\",\"data_processed\")).transpose(0,2,1)\n",
    "#vol = vol[:,200:300,200:350]\n",
    "#vol = scipy.ndimage.gaussian_filter(vol, sigma=(0, 1, 1))\n",
    "#nereast\n",
    "vol = scipy.ndimage.median_filter(vol, size=(9,1,1), mode='nearest')\n"
   ]
  },
  {
   "cell_type": "code",
   "execution_count": 34,
   "metadata": {},
   "outputs": [
    {
     "data": {
      "text/plain": [
       "<jlc.functions.zoom at 0x1b777d01d20>"
      ]
     },
     "execution_count": 34,
     "metadata": {},
     "output_type": "execute_result"
    }
   ],
   "source": [
    "sigma1 = 0.75\n",
    "sigma2 = 1.5\n",
    "vol = scipy.ndimage.gaussian_filter(vol, sigma=(0, sigma1, sigma1))-scipy.ndimage.gaussian_filter(vol, sigma=(0, sigma2, sigma2))\n",
    "vol[vol<0] = 0\n",
    "vol = norm_quantile(vol,alpha=0.001,clip=True)\n",
    "jlc.inspect_vol(vol)\n",
    "jlc.zoom()"
   ]
  },
  {
   "cell_type": "code",
   "execution_count": 37,
   "metadata": {},
   "outputs": [
    {
     "data": {
      "text/plain": [
       "<jlc.functions.zoom at 0x1b77eef1690>"
      ]
     },
     "execution_count": 37,
     "metadata": {},
     "output_type": "execute_result"
    }
   ],
   "source": [
    "jlc.inspect_vol(vol,vmin=0,vmax=0.1)\n",
    "jlc.zoom()"
   ]
  },
  {
   "cell_type": "code",
   "execution_count": 4,
   "metadata": {},
   "outputs": [],
   "source": [
    "# TODO\n",
    "# Favor newer fibers when figuring out fiber origin\n",
    "# filter out fibers that moved/dissapeard\n",
    "# add calculation for fiber direction and include it in fiber origin selection\n",
    "# dont let fibers do tiny branches\n",
    "# if a node is very close to an edge and part of the CC, simply adjust the edge"
   ]
  },
  {
   "cell_type": "code",
   "execution_count": 20,
   "metadata": {},
   "outputs": [],
   "source": [
    "\n",
    "def find_conn2(xy,nodes,node,r,upper_limit=15,at_most_prev_nodes=10,at_most_prev_t=100,good_speed=0.15):\n",
    "    dist = np.linalg.norm(xy-np.array([node[\"x\"],node[\"y\"]]),axis=1)\n",
    "    dist_idx = np.where(dist<=upper_limit)[0]\n",
    "    dist_idx = np.array([i for i in dist_idx if nodes[i][\"active\"]])\n",
    "    if len(dist_idx)==0:\n",
    "        return []\n",
    "    #split into growing and non-growing:\n",
    "    growing_index = np.array([i for i in dist_idx if nodes[i][\"growing\"]])\n",
    "    cost = []\n",
    "    t_now = node[\"t\"]\n",
    "    for i in growing_index:\n",
    "        path = [nodes[i]]\n",
    "        path_idx = [i]\n",
    "        for _ in range(at_most_prev_nodes):\n",
    "            if len(path[-1][\"conn\"])==0:\n",
    "                break\n",
    "            j = path[-1][\"conn\"][0]\n",
    "            if nodes[j][\"root\"]:\n",
    "                break\n",
    "            path.append(nodes[j])\n",
    "            path_idx.append(j)\n",
    "            if path[-1][\"t\"]<t_now-at_most_prev_t:\n",
    "                break\n",
    "        if not len(path)==len(np.unique(path_idx)):\n",
    "            print(path_idx)\n",
    "            for j in np.unique(path_idx):\n",
    "                print(\"NODE \"+str(j))\n",
    "                print(nodes[j])\n",
    "            raise Exception(\"path_idx not unique\")\n",
    "        if len(path)>1:\n",
    "            xy_path = np.array([[n[\"x\"],n[\"y\"]] for n in path])\n",
    "            cum_dist = np.linalg.norm(xy_path[1:]-xy_path[:-1],axis=1).sum()\n",
    "            cum_t = t_now-path[-1][\"t\"]\n",
    "            speed = cum_dist/cum_t\n",
    "            gs = good_speed\n",
    "            speed = 1-soft_threshold(speed,0.5*gs,1.5*gs)\n",
    "            speed *= 1-soft_threshold(len(path),0,3)\n",
    "            v1 = np.array([node[\"x\"],node[\"y\"]])-xy_path[0]\n",
    "            v2 = xy_path[1]-xy_path[0]\n",
    "            angle = np.arccos(np.dot(v1,v2)/(np.linalg.norm(v1)*np.linalg.norm(v2)))\n",
    "            angle = 1-angle/np.pi\n",
    "            angle = 1-soft_threshold(angle,0.6,0.9,2)\n",
    "        else:\n",
    "            angle = 0\n",
    "            speed = 0\n",
    "        #cost formula\n",
    "        cost.append(dist[i]*(1+1.0*speed)+1.0*angle)\n",
    "    if node[\"x\"]==104 and node[\"y\"]==36:\n",
    "        print(cost)\n",
    "    if any([c<r*3+4 for c in cost]):\n",
    "        return [growing_index[np.argmin(cost)]]\n",
    "    else:\n",
    "        non_growing_index = np.array([i for i in dist_idx if not nodes[i][\"growing\"]])\n",
    "        if len(non_growing_index)==0:\n",
    "            return []\n",
    "        cost = dist[non_growing_index]\n",
    "        if any(cost<r*3+2):\n",
    "            return [non_growing_index[np.argmin(cost)]]\n",
    "        else:\n",
    "            return []\n"
   ]
  },
  {
   "cell_type": "code",
   "execution_count": 9,
   "metadata": {},
   "outputs": [],
   "source": [
    "def find_conn3(xy,nodes,node,r,growing_reward=2):\n",
    "    dist = np.linalg.norm(xy-np.array([node[\"x\"],node[\"y\"]]),axis=1)\n",
    "    t = np.array([n[\"t\"] for n in nodes if n[\"active\"]])\n",
    "    t_now = node[\"t\"]\n",
    "    mod_dist = dist#-5.0*self.radius*(1-soft_threshold(t_now-t-1,0,10,3))\n",
    "    active_idx = np.array([n[\"idx\"] for n in nodes if n[\"active\"]])\n",
    "    mod_dist = mod_dist[active_idx]\n",
    "    growing_idx = np.array([k for (k,i) in enumerate(active_idx) if nodes[i][\"growing\"]])\n",
    "    mod_dist[growing_idx] -= growing_reward\n",
    "    if any(mod_dist<r*3+2):\n",
    "        return [active_idx[np.argmin(mod_dist)]]\n",
    "    else:\n",
    "        return []"
   ]
  },
  {
   "cell_type": "code",
   "execution_count": 96,
   "metadata": {},
   "outputs": [
    {
     "data": {
      "text/plain": [
       "<jlc.functions.zoom at 0x1b9385e34f0>"
      ]
     },
     "execution_count": 96,
     "metadata": {},
     "output_type": "execute_result"
    }
   ],
   "source": [
    "from utils import FiberGraph\n",
    "from functools import partial\n",
    "fiber_graph = FiberGraph(radius=2,find_conn_func=find_conn3,threshold=0.2)\n",
    "mf = vol.shape[0]\n",
    "fiber_graph.process_vol(vol,max_frames=mf)\n",
    "plt.figure()\n",
    "plt.imshow(vol[mf-1],cmap=\"gray\")\n",
    "fiber_graph.plot()\n",
    "jlc.zoom()"
   ]
  },
  {
   "cell_type": "code",
   "execution_count": 98,
   "metadata": {},
   "outputs": [
    {
     "data": {
      "text/plain": [
       "<jlc.functions.zoom at 0x1b8ba2fe0e0>"
      ]
     },
     "execution_count": 98,
     "metadata": {},
     "output_type": "execute_result"
    }
   ],
   "source": [
    "inspect_fiber_vol(vol*0.3,fiber_graph=fiber_graph)\n",
    "jlc.zoom()"
   ]
  },
  {
   "cell_type": "code",
   "execution_count": 93,
   "metadata": {},
   "outputs": [
    {
     "data": {
      "text/plain": [
       "<jlc.functions.zoom at 0x1b845f3c550>"
      ]
     },
     "execution_count": 93,
     "metadata": {},
     "output_type": "execute_result"
    }
   ],
   "source": [
    "soft_max = soft_threshold(scipy.ndimage.gaussian_filter(vol[-1],sigma=0.7),0.1,0.2)\n",
    "cmap_image = (soft_max*(vol>0.15).mean(0)*255).astype(np.uint8)\n",
    "cmap = plt.get_cmap(\"jet\")\n",
    "cmap = np.array([cmap(i)[:3] for i in np.linspace(0,1,256)])\n",
    "cmap[0,:] = 0\n",
    "cmap_image = cmap[cmap_image]\n",
    "plt.imshow(cmap_image)\n",
    "jlc.zoom()"
   ]
  },
  {
   "cell_type": "code",
   "execution_count": 90,
   "metadata": {},
   "outputs": [],
   "source": [
    "vol = jlc.load_tifvol(filenames[0].replace(\"data\",\"data_processed\")).transpose(0,2,1)\n",
    "#vol = vol[:,200:300,200:350]\n",
    "#vol = scipy.ndimage.gaussian_filter(vol, sigma=(0, 1, 1))\n",
    "#nereast\n",
    "vol = scipy.ndimage.median_filter(vol, size=(9,1,1), mode='mirror')"
   ]
  },
  {
   "cell_type": "code",
   "execution_count": 91,
   "metadata": {},
   "outputs": [
    {
     "data": {
      "text/plain": [
       "<jlc.functions.zoom at 0x1b7d2e680d0>"
      ]
     },
     "execution_count": 91,
     "metadata": {},
     "output_type": "execute_result"
    }
   ],
   "source": [
    "def laplace(x,s1=0.75,s2=1.5,clip0=True):\n",
    "    x = scipy.ndimage.gaussian_filter(x, sigma=(0, s1, s1))-scipy.ndimage.gaussian_filter(x, sigma=(0, s2, s2))\n",
    "    if clip0:\n",
    "        x[x<0] = 0\n",
    "    return x\n",
    "\n",
    "vol = np.maximum(norm_quantile(laplace(vol),0.01)*soft_threshold(vol,0.08,0.12),soft_threshold(vol,0.5,0.75))\n",
    "jlc.inspect_vol(vol)\n",
    "jlc.zoom()"
   ]
  }
 ],
 "metadata": {
  "kernelspec": {
   "display_name": "cv-env",
   "language": "python",
   "name": "python3"
  },
  "language_info": {
   "codemirror_mode": {
    "name": "ipython",
    "version": 3
   },
   "file_extension": ".py",
   "mimetype": "text/x-python",
   "name": "python",
   "nbconvert_exporter": "python",
   "pygments_lexer": "ipython3",
   "version": "3.10.11"
  }
 },
 "nbformat": 4,
 "nbformat_minor": 2
}
