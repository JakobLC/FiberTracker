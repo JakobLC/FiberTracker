{
 "cells": [
  {
   "cell_type": "code",
   "execution_count": 2,
   "metadata": {},
   "outputs": [
    {
     "name": "stdout",
     "output_type": "stream",
     "text": [
      "The autoreload extension is already loaded. To reload it, use:\n",
      "  %reload_ext autoreload\n"
     ]
    }
   ],
   "source": [
    "#import dependencies\n",
    "%load_ext autoreload\n",
    "%autoreload 2\n",
    "%matplotlib qt5\n",
    "import matplotlib.pyplot as plt\n",
    "import numpy as np\n",
    "import jlc\n",
    "import scipy\n",
    "import cv2\n",
    "from PIL import Image\n",
    "from utils import (estimate_bias, estimate_bias_coefs,norm_quantile,\n",
    "                   norm_translation,process_vol,soft_threshold,\n",
    "                   get_disc_2d,inspect_fiber_vol,filter_vol,\n",
    "                   get_high_density_mask,make_dist_time_plot,create_fiber_video,\n",
    "                   create_mp4_from_frame_folder,generate_results,\n",
    "                   plot_mean_growth_rate,FiberGraph,\n",
    "                   generate_results_branching)\n",
    "from pathlib import Path\n",
    "import os"
   ]
  },
  {
   "cell_type": "code",
   "execution_count": 3,
   "metadata": {},
   "outputs": [
    {
     "name": "stdout",
     "output_type": "stream",
     "text": [
      "['data\\\\YCsgA_Exp2_Pos1.tif', 'data\\\\YCsgA_Exp2_Pos2.tif', 'data\\\\YCsgA_Exp2_Pos3.tif', 'data\\\\YCsgA_Exp2_Pos4.tif', 'data\\\\YCsgA_Exp3_Pos1.tif', 'data\\\\YCsgA_Exp3_Pos2.tif', 'data\\\\YCsgA_Exp3_Pos3.tif', 'data\\\\YCsgA_Exp3_Pos4.tif']\n"
     ]
    }
   ],
   "source": [
    "#define filenames based on tif vols in subfolder /data/\n",
    "filenames = list(Path(\"./data/\").glob(\"*.tif\"))\n",
    "filenames = [str(f) for f in filenames]\n",
    "print(filenames)\n",
    "assert len(filenames)>0, \"filenamees is empty, make sure you are in a folder with a /data/ subfolder that contains the tif volumes\""
   ]
  },
  {
   "cell_type": "code",
   "execution_count": null,
   "metadata": {},
   "outputs": [],
   "source": [
    "#Process and save volumes (Takes a long time)\n",
    "BEST_TRANS = []\n",
    "for filename in filenames:\n",
    "    savename = filename.replace(\"data\",\"data_processed3\")\n",
    "    os.makedirs(os.path.dirname(savename),exist_ok=True)\n",
    "    vol, best_translation = process_vol(filename,smaller=False,reset_origo_on_bad_frame=False)\n",
    "    jlc.save_tifvol(vol,savename)\n",
    "    BEST_TRANS.append(best_translation)\n",
    "\n",
    "    savename = filename.replace(\"data\",\"data_filtered3\")\n",
    "    os.makedirs(os.path.dirname(savename),exist_ok=True)\n",
    "    vol = filter_vol(vol,only_median=False)\n",
    "    jlc.save_tifvol(vol,savename)\n",
    "    print(\"done with \",filename)\n"
   ]
  },
  {
   "cell_type": "code",
   "execution_count": null,
   "metadata": {},
   "outputs": [],
   "source": [
    "#Generate all results in the results folder (results/[name_of_vol]/...). (takes a long time)\n",
    "#volumes must be processed beforehand (previous cell)\n",
    "for i in range(8):\n",
    "    generate_results(i,filenames)\n",
    "for i in range(len(filenames)):\n",
    "    generate_results_branching(i,filenames)"
   ]
  },
  {
   "cell_type": "code",
   "execution_count": null,
   "metadata": {},
   "outputs": [],
   "source": [
    "#save dist vs time file based on generated results\n",
    "dist_vs_time_all = np.zeros((0,3))\n",
    "exp_name = []\n",
    "for i in range(len(filenames)):\n",
    "    name = filenames[i].split(\"YCsgA_\")[-1][:-4]\n",
    "    loadname = \"results/\"+name+\"/dist_vs_time.csv\"\n",
    "    dist_vs_time = np.loadtxt(loadname,delimiter=\",\")\n",
    "    dist_vs_time_all = np.vstack((dist_vs_time_all,dist_vs_time))\n",
    "    exp_name.extend([name]*len(dist_vs_time))\n",
    "dist_vs_time_all = dist_vs_time_all.astype(object)\n",
    "dist_vs_time_all = np.hstack((dist_vs_time_all,np.array(exp_name)[:,None]))\n",
    "header=\"time,distance,fiber_number,exp_name\"\n",
    "fmt=\"%d,%f,%d,%s\"\n",
    "np.savetxt(\"results/dist_vs_time_all.csv\",dist_vs_time_all,delimiter=\",\",header=header,fmt=fmt)"
   ]
  },
  {
   "cell_type": "code",
   "execution_count": 4,
   "metadata": {},
   "outputs": [],
   "source": [
    "#do manual inspection of fiber volumes (on a single volume, without saving plots like in generate_results)\n",
    "i = 0\n",
    "vol_vis = jlc.load_tifvol(filenames[i].replace(\"data\",\"data_processed3\")).transpose(0,2,1)\n",
    "vol = jlc.load_tifvol(filenames[i].replace(\"data\",\"data_filtered3\")).transpose(0,2,1)"
   ]
  },
  {
   "cell_type": "code",
   "execution_count": 5,
   "metadata": {},
   "outputs": [
    {
     "data": {
      "text/plain": [
       "<jlc.functions.zoom at 0x2741e9e54e0>"
      ]
     },
     "execution_count": 5,
     "metadata": {},
     "output_type": "execute_result"
    }
   ],
   "source": [
    "#view the segmentation volume. Navigate frames with arrow keys. Use scroll wheel or drag-and-drop to change spatial view\n",
    "jlc.inspect_vol(vol)\n",
    "jlc.zoom()"
   ]
  },
  {
   "cell_type": "code",
   "execution_count": 6,
   "metadata": {},
   "outputs": [
    {
     "data": {
      "text/plain": [
       "<jlc.functions.zoom at 0x2747f2c8370>"
      ]
     },
     "execution_count": 6,
     "metadata": {},
     "output_type": "execute_result"
    }
   ],
   "source": [
    "#view the filtered volume\n",
    "jlc.inspect_vol(vol_vis)\n",
    "jlc.zoom()"
   ]
  },
  {
   "cell_type": "code",
   "execution_count": 7,
   "metadata": {},
   "outputs": [
    {
     "data": {
      "text/plain": [
       "<jlc.functions.zoom at 0x2745b04fa30>"
      ]
     },
     "execution_count": 7,
     "metadata": {},
     "output_type": "execute_result"
    }
   ],
   "source": [
    "#create a fiber graph for the volume and display the unfiltered fibers with the last frame\n",
    "fiber_graph = FiberGraph(radius=3,threshold=0.2)\n",
    "mf = vol.shape[0]\n",
    "fiber_graph.process_vol(vol,max_frames=mf)\n",
    "plt.figure()\n",
    "plt.imshow(vol[mf-1],cmap=\"gray\")\n",
    "fiber_graph.plot()\n",
    "jlc.zoom()"
   ]
  },
  {
   "cell_type": "code",
   "execution_count": 8,
   "metadata": {},
   "outputs": [
    {
     "data": {
      "text/plain": [
       "<jlc.functions.zoom at 0x2745bcbb430>"
      ]
     },
     "execution_count": 8,
     "metadata": {},
     "output_type": "execute_result"
    }
   ],
   "source": [
    "#display in navigable form\n",
    "inspect_fiber_vol(vol_vis,fiber_graph=fiber_graph,vmax=0.5)\n",
    "jlc.zoom()"
   ]
  },
  {
   "cell_type": "code",
   "execution_count": 9,
   "metadata": {},
   "outputs": [
    {
     "name": "stdout",
     "output_type": "stream",
     "text": [
      "525\n",
      "352\n"
     ]
    },
    {
     "data": {
      "text/plain": [
       "<jlc.functions.zoom at 0x2745bb1f2e0>"
      ]
     },
     "execution_count": 9,
     "metadata": {},
     "output_type": "execute_result"
    }
   ],
   "source": [
    "#filter the fibers, show the filtered fibers with the last frame\n",
    "print(fiber_graph.num_fibers())\n",
    "fiber_graph.cc_crop()\n",
    "fiber_graph.leaf_crop()\n",
    "fiber_graph.high_dens_crop(get_high_density_mask(vol[mf-1]))\n",
    "fiber_graph.remove_inactive()\n",
    "print(fiber_graph.num_fibers())\n",
    "plt.figure()\n",
    "plt.imshow(vol[mf-1],cmap=\"gray\")\n",
    "fiber_graph.plot(t=mf+1)\n",
    "jlc.zoom()"
   ]
  },
  {
   "cell_type": "code",
   "execution_count": 10,
   "metadata": {},
   "outputs": [
    {
     "name": "stdout",
     "output_type": "stream",
     "text": [
      "found n=32 candidate paths with len>=8\n",
      "found n=32 candidate paths with mean min dist>0\n"
     ]
    },
    {
     "data": {
      "text/plain": [
       "<jlc.functions.zoom at 0x2745aa4c430>"
      ]
     },
     "execution_count": 10,
     "metadata": {},
     "output_type": "execute_result"
    }
   ],
   "source": [
    "#find high confidence paths and show the high cond paths\n",
    "stats, growth_rate, paths = fiber_graph.estimate_stats(vol_vis[-1]-vol_vis[0].mean(),high_dens_image=get_high_density_mask(vol[-1]),max_dist=0,min_len=8)\n",
    "inspect_fiber_vol(vol_vis,fiber_graph=fiber_graph,vmax=0.5,fiber_plot_kwargs={\"plot_node_idx\": sum(paths,[]),\"mpl_colors\": False, \"color\": \"red\"})\n",
    "jlc.zoom()"
   ]
  },
  {
   "cell_type": "code",
   "execution_count": 34,
   "metadata": {},
   "outputs": [],
   "source": [
    "#save all the frame for a fiber video \n",
    "create_fiber_video(vol_vis,fiber_graph,plot_kwargs={\"lw\":0.5,\"ms\":2})\n",
    "create_mp4_from_frame_folder(\"./video/\",delete_frames=True)"
   ]
  },
  {
   "cell_type": "code",
   "execution_count": 11,
   "metadata": {},
   "outputs": [
    {
     "data": {
      "text/plain": [
       "<jlc.functions.zoom at 0x2745eef3f70>"
      ]
     },
     "execution_count": 11,
     "metadata": {},
     "output_type": "execute_result"
    }
   ],
   "source": [
    "#make a high cond dist covered versus time plot. \n",
    "#if add_start_time=True, then the fibers are aligned as \n",
    "#they grew in time, otherwise they all start at t=0.\n",
    "make_dist_time_plot(paths,growth_rate,fiber_graph,add_start_time = True,plot=True,save_fig=False,save_csv=False,\n",
    "                        save_fig_name=\"results/dist_vs_time.png\",\n",
    "                        save_csv_name=\"results/dist_vs_time.csv\")\n",
    "jlc.zoom()"
   ]
  },
  {
   "cell_type": "code",
   "execution_count": 12,
   "metadata": {},
   "outputs": [
    {
     "data": {
      "text/plain": [
       "<jlc.functions.zoom at 0x274614f6680>"
      ]
     },
     "execution_count": 12,
     "metadata": {},
     "output_type": "execute_result"
    }
   ],
   "source": [
    "#inspect the fiber volume with a specific high confidence path \n",
    "#(look at indices in the previous cell plot, define idx as one \n",
    "# of 0,1,2,3,... which you would like to see growing in the volume)\n",
    "idx = 3\n",
    "inspect_fiber_vol(vol_vis,fiber_graph=fiber_graph,vmax=0.5,fiber_plot_kwargs={\"plot_node_idx\": paths[idx],\"mpl_colors\": False, \"color\": \"red\"})\n",
    "jlc.zoom()"
   ]
  },
  {
   "cell_type": "code",
   "execution_count": 20,
   "metadata": {},
   "outputs": [
    {
     "data": {
      "text/plain": [
       "Text(0, 0.5, 'count')"
      ]
     },
     "execution_count": 20,
     "metadata": {},
     "output_type": "execute_result"
    }
   ],
   "source": [
    "#look at histogram of growth rates\n",
    "time2 = []\n",
    "dist2 = []\n",
    "for dist,time in growth_rate:\n",
    "    dist2 += dist.tolist()\n",
    "    time2 += time.tolist()\n",
    "rate = np.array(dist2)/np.array(time2)\n",
    "#plt.scatter(time2,dist2)\n",
    "plt.subplot(211)\n",
    "plt.hist(rate,np.linspace(0,3,100),density=True)\n",
    "plt.xlabel(\"growth rate (pixels/frame)\")\n",
    "plt.ylabel(\"probability\")\n",
    "plt.subplot(212)\n",
    "plt.hist(rate,np.logspace(-3,0.5,100),density=False)\n",
    "plt.xscale(\"log\")\n",
    "plt.xlabel(\"growth rate (pixels/frame)\")\n",
    "plt.ylabel(\"count\")"
   ]
  },
  {
   "cell_type": "code",
   "execution_count": null,
   "metadata": {},
   "outputs": [],
   "source": [
    "#plot branches of the fiber graph\n",
    "plot_kwargs={\"circle_branches\": True,\"mpl_colors\": False, \"color\": \"red\"}\n",
    "plt.figure()\n",
    "plt.imshow(vol_vis[-1],cmap=\"gray\")\n",
    "fiber_graph.plot(t=vol_vis.shape[0],**plot_kwargs)\n",
    "jlc.zoom()"
   ]
  },
  {
   "cell_type": "code",
   "execution_count": 25,
   "metadata": {},
   "outputs": [
    {
     "data": {
      "text/plain": [
       "<jlc.functions.zoom at 0x189fb610550>"
      ]
     },
     "execution_count": 25,
     "metadata": {},
     "output_type": "execute_result"
    }
   ],
   "source": [
    "#Visualize a high density mask\n",
    "frame_number = vol.shape[0]-1 #for e.g. last frame\n",
    "mask = get_high_density_mask(vol[frame_number])\n",
    "alpha = 0.5\n",
    "im = vol[mf-1][None].repeat(3,axis=0)\n",
    "im[0] = mask*alpha+im[0]*(1-mask*alpha)\n",
    "im[1] = im[1]*(1-mask*alpha)\n",
    "im[2] = im[2]*(1-mask*alpha)\n",
    "im = im.transpose(1,2,0)\n",
    "plt.imshow(im,cmap=\"gray\")\n",
    "jlc.zoom()"
   ]
  },
  {
   "cell_type": "code",
   "execution_count": 27,
   "metadata": {},
   "outputs": [
    {
     "data": {
      "text/plain": [
       "<matplotlib.legend.Legend at 0x189fd0db3a0>"
      ]
     },
     "execution_count": 27,
     "metadata": {},
     "output_type": "execute_result"
    }
   ],
   "source": [
    "#make a plot of high density fraction versus time (requires generated_results to be run)\n",
    "high_dens_per_t = []\n",
    "names = []\n",
    "plt.figure(figsize=(14,8))\n",
    "for i in range(len(filenames)):\n",
    "    name = filenames[i].split(\"YCsgA_\")[-1][:-4]\n",
    "    names.append(name)\n",
    "    loadname = \"results/\"+name+\"/high_dens_per_t.txt\"\n",
    "    high_dens_per_t.append(np.loadtxt(loadname))\n",
    "    plt.plot(high_dens_per_t[-1],label=name)\n",
    "\n",
    "\n",
    "plt.xlabel(\"time (frames)\")\n",
    "plt.ylabel(\"high density fraction\")\n",
    "plt.legend(names)\n",
    "#plt.savefig(\"results/high_dens_per_t.png\",dpi=300)"
   ]
  },
  {
   "cell_type": "code",
   "execution_count": 14,
   "metadata": {},
   "outputs": [],
   "source": [
    "#plot number of branches versus time (requires generated_results_branching to be run)\n",
    "divide_by_num_fibers = False #if you want to plot number of branches per fiber instead of just absolute number\n",
    "save=False #save figure in results folder\n",
    "\n",
    "num_branches_per_t_all = []\n",
    "names = [f.split(\"YCsgA_\")[-1][:-4] for f in filenames]\n",
    "plt.figure(figsize=(14,8))\n",
    "for name in names:\n",
    "    loadname = \"results/\"+name+\"/num_branches_per_t.txt\"\n",
    "    if divide_by_num_fibers:\n",
    "        num_branches_per_t_all.append(np.loadtxt(loadname)/np.loadtxt(\"results/\"+name+\"/num_fibers_per_t.txt\"))\n",
    "    else:\n",
    "        num_branches_per_t_all.append(np.loadtxt(loadname))\n",
    "    plt.plot(num_branches_per_t_all[-1],label=name)\n",
    "mean_first_4 = np.mean(np.array(num_branches_per_t_all[:4]),axis=0)\n",
    "plt.plot(mean_first_4,label=\"Exp 2 mean\",linewidth=3,color=\"red\")\n",
    "mean_last_4 = np.mean(np.array(num_branches_per_t_all[-4:]),axis=0)\n",
    "plt.plot(mean_last_4,label=\"Exp 3 mean\",linewidth=3,color=\"black\")\n",
    "plt.xlabel(\"time (frames)\")\n",
    "if divide_by_num_fibers:\n",
    "    plt.ylabel(\"number of branches per fiber\")\n",
    "else:\n",
    "    plt.ylabel(\"number of branches\")\n",
    "plt.legend()\n",
    "if save:\n",
    "    if divide_by_num_fibers:\n",
    "        plt.savefig(\"results/num_branches_per_t_per_fiber.png\",dpi=300)\n",
    "    else:\n",
    "        plt.savefig(\"results/num_branches_per_t.png\",dpi=300)"
   ]
  }
 ],
 "metadata": {
  "kernelspec": {
   "display_name": "cv-env",
   "language": "python",
   "name": "python3"
  },
  "language_info": {
   "codemirror_mode": {
    "name": "ipython",
    "version": 3
   },
   "file_extension": ".py",
   "mimetype": "text/x-python",
   "name": "python",
   "nbconvert_exporter": "python",
   "pygments_lexer": "ipython3",
   "version": "3.10.11"
  }
 },
 "nbformat": 4,
 "nbformat_minor": 2
}
