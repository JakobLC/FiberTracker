{
 "cells": [
  {
   "cell_type": "code",
   "execution_count": 1,
   "metadata": {},
   "outputs": [],
   "source": [
    "%load_ext autoreload\n",
    "%autoreload 2\n",
    "%matplotlib qt5\n",
    "import matplotlib.pyplot as plt\n",
    "import numpy as np\n",
    "import jlc\n",
    "import scipy\n",
    "import cv2\n",
    "from utils import (estimate_bias, estimate_bias_coefs,norm_quantile,\n",
    "                   norm_translation,process_vol,soft_threshold,\n",
    "                   get_disc_2d,inspect_fiber_vol,filter_vol,\n",
    "                   get_high_density_mask)\n",
    "from pathlib import Path\n",
    "import os"
   ]
  },
  {
   "cell_type": "code",
   "execution_count": 2,
   "metadata": {},
   "outputs": [
    {
     "name": "stdout",
     "output_type": "stream",
     "text": [
      "['data\\\\YCsgA_Exp2_Pos1.tif', 'data\\\\YCsgA_Exp2_Pos2.tif', 'data\\\\YCsgA_Exp2_Pos3.tif', 'data\\\\YCsgA_Exp2_Pos4.tif', 'data\\\\YCsgA_Exp3_Pos1.tif', 'data\\\\YCsgA_Exp3_Pos2.tif', 'data\\\\YCsgA_Exp3_Pos3.tif', 'data\\\\YCsgA_Exp3_Pos4.tif']\n"
     ]
    }
   ],
   "source": [
    "filenames = list(Path(\"./data/\").glob(\"*.tif\"))\n",
    "filenames = [str(f) for f in filenames]\n",
    "print(filenames)"
   ]
  },
  {
   "cell_type": "code",
   "execution_count": 3,
   "metadata": {},
   "outputs": [],
   "source": [
    "#process and save\n",
    "if False:\n",
    "    BEST_TRANS = []\n",
    "    for filename in filenames:\n",
    "        savename = filename.replace(\"data\",\"data_processed2\")\n",
    "        os.makedirs(os.path.dirname(savename),exist_ok=True)\n",
    "        vol, best_translation = process_vol(filename,smaller=False,reset_origo_on_bad_frame=False)\n",
    "        jlc.save_tifvol(vol,savename)\n",
    "        BEST_TRANS.append(best_translation)\n",
    "        print(\"done with \",filename)    "
   ]
  },
  {
   "cell_type": "code",
   "execution_count": 4,
   "metadata": {},
   "outputs": [
    {
     "name": "stdout",
     "output_type": "stream",
     "text": [
      "done with  data\\YCsgA_Exp2_Pos1.tif\n",
      "done with  data\\YCsgA_Exp2_Pos2.tif\n",
      "done with  data\\YCsgA_Exp2_Pos3.tif\n",
      "done with  data\\YCsgA_Exp2_Pos4.tif\n",
      "done with  data\\YCsgA_Exp3_Pos1.tif\n",
      "done with  data\\YCsgA_Exp3_Pos2.tif\n",
      "done with  data\\YCsgA_Exp3_Pos3.tif\n",
      "done with  data\\YCsgA_Exp3_Pos4.tif\n"
     ]
    }
   ],
   "source": [
    "#process and save\n",
    "if True:\n",
    "    for filename in filenames:\n",
    "        loadname = filename.replace(\"data\",\"data_processed3\")\n",
    "        savename = filename.replace(\"data\",\"data_filtered3\")\n",
    "        os.makedirs(os.path.dirname(savename),exist_ok=True)\n",
    "        vol = jlc.load_tifvol(loadname)\n",
    "        vol = filter_vol(vol)\n",
    "        jlc.save_tifvol(vol,savename)\n",
    "        print(\"done with \",filename)    "
   ]
  },
  {
   "cell_type": "code",
   "execution_count": 5,
   "metadata": {},
   "outputs": [
    {
     "data": {
      "text/plain": [
       "<jlc.functions.zoom at 0x2a9ecb294e0>"
      ]
     },
     "execution_count": 5,
     "metadata": {},
     "output_type": "execute_result"
    }
   ],
   "source": [
    "vol_vis = jlc.load_tifvol(filenames[7].replace(\"data\",\"data_processed3\"))\n",
    "#vol = filter_vol(vol_vis,strict_max_filter=True)\n",
    "vol = jlc.load_tifvol(filenames[7].replace(\"data\",\"data_filtered3\"))\n",
    "jlc.inspect_vol(vol)\n",
    "jlc.zoom()"
   ]
  },
  {
   "cell_type": "code",
   "execution_count": 4,
   "metadata": {},
   "outputs": [],
   "source": [
    "# TODO\n",
    "# Favor newer fibers when figuring out fiber origin\n",
    "# filter out fibers that moved/dissapeard\n",
    "# add calculation for fiber direction and include it in fiber origin selection\n",
    "# dont let fibers do tiny branches\n",
    "# if a node is very close to an edge and part of the CC, simply adjust the edge"
   ]
  },
  {
   "cell_type": "code",
   "execution_count": 61,
   "metadata": {},
   "outputs": [
    {
     "data": {
      "text/plain": [
       "<jlc.functions.zoom at 0x2aa3d475390>"
      ]
     },
     "execution_count": 61,
     "metadata": {},
     "output_type": "execute_result"
    }
   ],
   "source": [
    "from utils import FiberGraph\n",
    "fiber_graph = FiberGraph(radius=2,threshold=0.2)\n",
    "mf = vol.shape[0]\n",
    "fiber_graph.process_vol(vol,max_frames=mf)\n",
    "plt.figure()\n",
    "plt.imshow(vol[mf-1],cmap=\"gray\")\n",
    "fiber_graph.plot()\n",
    "jlc.zoom()"
   ]
  },
  {
   "cell_type": "code",
   "execution_count": 54,
   "metadata": {},
   "outputs": [
    {
     "data": {
      "text/plain": [
       "<jlc.functions.zoom at 0x2aa3c6c5ba0>"
      ]
     },
     "execution_count": 54,
     "metadata": {},
     "output_type": "execute_result"
    }
   ],
   "source": [
    "inspect_fiber_vol(vol_vis,fiber_graph=fiber_graph,vmax=0.5)\n",
    "jlc.zoom()"
   ]
  },
  {
   "cell_type": "code",
   "execution_count": 119,
   "metadata": {},
   "outputs": [
    {
     "data": {
      "text/plain": [
       "4998"
      ]
     },
     "execution_count": 119,
     "metadata": {},
     "output_type": "execute_result"
    }
   ],
   "source": [
    "len(fiber_graph.edges)"
   ]
  },
  {
   "cell_type": "code",
   "execution_count": 121,
   "metadata": {},
   "outputs": [
    {
     "data": {
      "text/plain": [
       "<jlc.functions.zoom at 0x2aa6140ba30>"
      ]
     },
     "execution_count": 121,
     "metadata": {},
     "output_type": "execute_result"
    }
   ],
   "source": [
    "plt.figure()\n",
    "plt.imshow(vol_vis[mf-1],cmap=\"gray\")\n",
    "fiber_graph.plot(t=mf+1)\n",
    "jlc.zoom()"
   ]
  },
  {
   "cell_type": "code",
   "execution_count": 65,
   "metadata": {},
   "outputs": [
    {
     "name": "stdout",
     "output_type": "stream",
     "text": [
      "428\n",
      "369\n"
     ]
    },
    {
     "data": {
      "text/plain": [
       "<jlc.functions.zoom at 0x2aa3435a3b0>"
      ]
     },
     "execution_count": 65,
     "metadata": {},
     "output_type": "execute_result"
    }
   ],
   "source": [
    "print(fiber_graph.num_fibers())\n",
    "fiber_graph.cc_crop()\n",
    "fiber_graph.leaf_crop()\n",
    "fiber_graph.high_dens_crop(get_high_density_mask(vol[mf-1]))\n",
    "fiber_graph.remove_inactive()\n",
    "print(fiber_graph.num_fibers())\n",
    "plt.figure()\n",
    "plt.imshow(vol[mf-1],cmap=\"gray\")\n",
    "fiber_graph.plot(t=mf+1)\n",
    "jlc.zoom()"
   ]
  },
  {
   "cell_type": "code",
   "execution_count": 79,
   "metadata": {},
   "outputs": [
    {
     "name": "stdout",
     "output_type": "stream",
     "text": [
      "found n=49 candidate paths with len>=10\n",
      "found n=31 candidate paths with mean min dist>10\n"
     ]
    }
   ],
   "source": [
    "paths,paths_cc,path_mean_min_dist,dist = fiber_graph.find_long_seperated_paths(max_dist=10,min_len=10)"
   ]
  },
  {
   "cell_type": "code",
   "execution_count": 138,
   "metadata": {},
   "outputs": [
    {
     "name": "stdout",
     "output_type": "stream",
     "text": [
      "found n=49 candidate paths with len>=10\n",
      "found n=49 candidate paths with mean min dist>5\n"
     ]
    },
    {
     "data": {
      "text/plain": [
       "{'intensity_per_length': 0.7384208990149322,\n",
       " 'intensity_of_long_paths': 2195.9082441588357,\n",
       " 'total_intensity': 19541.936869197933,\n",
       " 'low_intensity': 13475.085725093148,\n",
       " 'len_of_long_paths': 2973.7894026133604,\n",
       " 'total_length_intensity': 26464.495919965502,\n",
       " 'low_length_graph': 24648.411024830122,\n",
       " 'low_length_intensity': 18248.516182395666,\n",
       " 'avg_growth_rate': 0,\n",
       " 'high_dens_ratio': 0.028655653932338633}"
      ]
     },
     "execution_count": 138,
     "metadata": {},
     "output_type": "execute_result"
    }
   ],
   "source": [
    "stats, growth_rate, paths = fiber_graph.estimate_stats(vol_vis[-1]-vol_vis[0].mean(),high_dens_image=get_high_density_mask(vol[-1]),max_dist=5,min_len=10)\n",
    "stats"
   ]
  },
  {
   "cell_type": "code",
   "execution_count": 137,
   "metadata": {},
   "outputs": [
    {
     "data": {
      "text/plain": [
       "0.08566095429556825"
      ]
     },
     "execution_count": 137,
     "metadata": {},
     "output_type": "execute_result"
    }
   ],
   "source": [
    "vol_vis.mean()"
   ]
  },
  {
   "cell_type": "code",
   "execution_count": 140,
   "metadata": {},
   "outputs": [
    {
     "data": {
      "text/plain": [
       "<matplotlib.colorbar.Colorbar at 0x2aa6bcdea10>"
      ]
     },
     "execution_count": 140,
     "metadata": {},
     "output_type": "execute_result"
    }
   ],
   "source": [
    "plt.imshow(vol_vis[-1]-vol_vis[0].mean(),vmin=-0.2,vmax=0.2)\n",
    "plt.colorbar()"
   ]
  },
  {
   "cell_type": "code",
   "execution_count": 142,
   "metadata": {},
   "outputs": [],
   "source": [
    "for dist,time in growth_rate:\n",
    "    plt.plot(np.cumsum(time),np.cumsum(dist))"
   ]
  },
  {
   "cell_type": "code",
   "execution_count": 112,
   "metadata": {},
   "outputs": [
    {
     "data": {
      "text/plain": [
       "(array([65., 58., 53., 52., 26., 31., 28., 15., 12., 22., 11.,  9., 12.,\n",
       "        11.,  8.,  6.,  8., 10.,  6.,  6.,  8.,  6.,  5.,  1.,  6.,  1.,\n",
       "         4.,  4.,  2.,  7., 13.,  0.,  2.,  0.,  3.,  6.,  0.,  1.,  0.,\n",
       "         0.,  6.,  2.,  0.,  4.,  2.,  1.,  0.,  0.,  5.,  3.,  0.,  0.,\n",
       "         2.,  0.,  0.,  1.,  0.,  2.,  0.,  0.,  0.,  2.,  0.,  0.,  0.,\n",
       "         4.,  0.,  0.,  0.,  1.,  1.,  0.,  0.,  0.,  1.,  0.,  0.,  0.,\n",
       "         1.,  0.,  2.,  0.,  0.,  1.,  0.,  0.,  0.,  0.,  0.,  0.,  0.,\n",
       "         0.,  0.,  0.,  0.,  0.,  0.,  0.,  1.,  1.]),\n",
       " array([ 0.01655643,  0.11837125,  0.22018608,  0.32200091,  0.42381573,\n",
       "         0.52563056,  0.62744538,  0.72926021,  0.83107504,  0.93288986,\n",
       "         1.03470469,  1.13651951,  1.23833434,  1.34014917,  1.44196399,\n",
       "         1.54377882,  1.64559364,  1.74740847,  1.8492233 ,  1.95103812,\n",
       "         2.05285295,  2.15466777,  2.2564826 ,  2.35829743,  2.46011225,\n",
       "         2.56192708,  2.6637419 ,  2.76555673,  2.86737156,  2.96918638,\n",
       "         3.07100121,  3.17281603,  3.27463086,  3.37644569,  3.47826051,\n",
       "         3.58007534,  3.68189016,  3.78370499,  3.88551982,  3.98733464,\n",
       "         4.08914947,  4.19096429,  4.29277912,  4.39459395,  4.49640877,\n",
       "         4.5982236 ,  4.70003842,  4.80185325,  4.90366808,  5.0054829 ,\n",
       "         5.10729773,  5.20911255,  5.31092738,  5.41274221,  5.51455703,\n",
       "         5.61637186,  5.71818668,  5.82000151,  5.92181634,  6.02363116,\n",
       "         6.12544599,  6.22726081,  6.32907564,  6.43089047,  6.53270529,\n",
       "         6.63452012,  6.73633494,  6.83814977,  6.9399646 ,  7.04177942,\n",
       "         7.14359425,  7.24540907,  7.3472239 ,  7.44903873,  7.55085355,\n",
       "         7.65266838,  7.7544832 ,  7.85629803,  7.95811286,  8.05992768,\n",
       "         8.16174251,  8.26355733,  8.36537216,  8.46718699,  8.56900181,\n",
       "         8.67081664,  8.77263146,  8.87444629,  8.97626112,  9.07807594,\n",
       "         9.17989077,  9.28170559,  9.38352042,  9.48533525,  9.58715007,\n",
       "         9.6889649 ,  9.79077972,  9.89259455,  9.99440938, 10.0962242 ,\n",
       "        10.19803903]),\n",
       " <BarContainer object of 100 artists>)"
      ]
     },
     "execution_count": 112,
     "metadata": {},
     "output_type": "execute_result"
    }
   ],
   "source": [
    "time2 = []\n",
    "dist2 = []\n",
    "for dist,time in growth_rate:\n",
    "    dist2 += dist.tolist()\n",
    "    time2 += time.tolist()\n",
    "nonzero_mask = np.array(time2)>0\n",
    "rate = np.array(dist2)[nonzero_mask]/np.array(time2)[nonzero_mask]\n",
    "#plt.scatter(time2,dist2)\n",
    "plt.hist(rate,100)"
   ]
  },
  {
   "cell_type": "code",
   "execution_count": 93,
   "metadata": {},
   "outputs": [],
   "source": [
    "jlc.inspect_vol(vol_vis-vol_vis[0].mean(),cmap=\"viridis\",vmin=0,vmax=0.4)"
   ]
  },
  {
   "cell_type": "code",
   "execution_count": 80,
   "metadata": {},
   "outputs": [
    {
     "data": {
      "text/plain": [
       "<jlc.functions.zoom at 0x2aa50783310>"
      ]
     },
     "execution_count": 80,
     "metadata": {},
     "output_type": "execute_result"
    }
   ],
   "source": [
    "\n",
    "\n",
    "plt.imshow(dist,vmin=0,vmax=20)\n",
    "for path in paths:\n",
    "    path_xy = fiber_graph.XY[path]\n",
    "    plt.plot(path_xy[:,0],path_xy[:,1],c=\"r\")\n",
    "jlc.zoom()"
   ]
  },
  {
   "cell_type": "code",
   "execution_count": 52,
   "metadata": {},
   "outputs": [
    {
     "data": {
      "text/plain": [
       "<jlc.functions.zoom at 0x2aa39ad5e70>"
      ]
     },
     "execution_count": 52,
     "metadata": {},
     "output_type": "execute_result"
    }
   ],
   "source": [
    "plt.imshow(vol[mf-1],cmap=\"gray\")\n",
    "for path in paths:\n",
    "    path_xy = fiber_graph.XY[path]\n",
    "    plt.plot(path_xy[:,0],path_xy[:,1],c=\"r\")\n",
    "jlc.zoom()"
   ]
  },
  {
   "cell_type": "code",
   "execution_count": 25,
   "metadata": {},
   "outputs": [
    {
     "data": {
      "text/plain": [
       "444"
      ]
     },
     "execution_count": 25,
     "metadata": {},
     "output_type": "execute_result"
    }
   ],
   "source": [
    "max([n[\"cc_idx\"] for n in fiber_graph.nodes])"
   ]
  },
  {
   "cell_type": "code",
   "execution_count": 33,
   "metadata": {},
   "outputs": [
    {
     "data": {
      "text/plain": [
       "<jlc.functions.zoom at 0x1232a82a170>"
      ]
     },
     "execution_count": 33,
     "metadata": {},
     "output_type": "execute_result"
    }
   ],
   "source": [
    "#fiber_graph.leaf_crop()\n",
    "plt.figure()\n",
    "plt.imshow(vol[mf-1],cmap=\"gray\")\n",
    "fiber_graph.plot(t=mf+1)\n",
    "jlc.zoom()"
   ]
  },
  {
   "cell_type": "code",
   "execution_count": 35,
   "metadata": {},
   "outputs": [
    {
     "data": {
      "text/plain": [
       "<jlc.functions.zoom at 0x1232eb82200>"
      ]
     },
     "execution_count": 35,
     "metadata": {},
     "output_type": "execute_result"
    }
   ],
   "source": [
    "fiber_graph.cc_crop(10)\n",
    "plt.figure()\n",
    "plt.imshow(vol[mf-1],cmap=\"gray\")\n",
    "fiber_graph.plot(t=mf+1)\n",
    "jlc.zoom()"
   ]
  },
  {
   "cell_type": "code",
   "execution_count": 56,
   "metadata": {},
   "outputs": [
    {
     "data": {
      "text/plain": [
       "<jlc.functions.zoom at 0x1233cf20280>"
      ]
     },
     "execution_count": 56,
     "metadata": {},
     "output_type": "execute_result"
    }
   ],
   "source": [
    "\n",
    "#mask = scipy.ndimage.gaussian_filter(vol[mf-1],sigma=5)>0.4\n",
    "mask = get_high_density_mask(vol[mf-1])\n",
    "alpha = 0.5\n",
    "im = vol[mf-1][None].repeat(3,axis=0)\n",
    "im[0] = mask*alpha+im[0]*(1-mask*alpha)\n",
    "im[1] = im[1]*(1-mask*alpha)\n",
    "im[2] = im[2]*(1-mask*alpha)\n",
    "im = im.transpose(1,2,0)\n",
    "plt.imshow(im,cmap=\"gray\")\n",
    "jlc.zoom()"
   ]
  },
  {
   "cell_type": "code",
   "execution_count": 10,
   "metadata": {},
   "outputs": [
    {
     "name": "stdout",
     "output_type": "stream",
     "text": [
      "3977\n",
      "3396\n"
     ]
    }
   ],
   "source": [
    "print(max(sum([n[\"conn\"] for n in fiber_graph.nodes],[])))\n",
    "print(len(fiber_graph.nodes))"
   ]
  },
  {
   "cell_type": "code",
   "execution_count": 90,
   "metadata": {},
   "outputs": [],
   "source": [
    "vol = jlc.load_tifvol(filenames[0].replace(\"data\",\"data_processed\")).transpose(0,2,1)\n",
    "#vol = vol[:,200:300,200:350]\n",
    "#vol = scipy.ndimage.gaussian_filter(vol, sigma=(0, 1, 1))\n",
    "#nereast\n",
    "vol = scipy.ndimage.median_filter(vol, size=(9,1,1), mode='mirror')"
   ]
  },
  {
   "cell_type": "code",
   "execution_count": 91,
   "metadata": {},
   "outputs": [
    {
     "data": {
      "text/plain": [
       "<jlc.functions.zoom at 0x1b7d2e680d0>"
      ]
     },
     "execution_count": 91,
     "metadata": {},
     "output_type": "execute_result"
    }
   ],
   "source": [
    "def laplace(x,s1=0.75,s2=1.5,clip0=True):\n",
    "    x = scipy.ndimage.gaussian_filter(x, sigma=(0, s1, s1))-scipy.ndimage.gaussian_filter(x, sigma=(0, s2, s2))\n",
    "    if clip0:\n",
    "        x[x<0] = 0\n",
    "    return x\n",
    "\n",
    "vol = np.maximum(norm_quantile(laplace(vol),0.01)*soft_threshold(vol,0.08,0.12),soft_threshold(vol,0.5,0.75))\n",
    "jlc.inspect_vol(vol)\n",
    "jlc.zoom()"
   ]
  },
  {
   "cell_type": "code",
   "execution_count": null,
   "metadata": {},
   "outputs": [],
   "source": [
    "BEST_TRANS = []\n",
    "for filename in [filenames[i] for i in [0,2,4,6]]:\n",
    "    vol, best_translation = process_vol(filename,smaller=True)\n",
    "    BEST_TRANS.append(best_translation)\n",
    "    print(\"done with \",filename)"
   ]
  }
 ],
 "metadata": {
  "kernelspec": {
   "display_name": "cv-env",
   "language": "python",
   "name": "python3"
  },
  "language_info": {
   "codemirror_mode": {
    "name": "ipython",
    "version": 3
   },
   "file_extension": ".py",
   "mimetype": "text/x-python",
   "name": "python",
   "nbconvert_exporter": "python",
   "pygments_lexer": "ipython3",
   "version": "3.10.11"
  }
 },
 "nbformat": 4,
 "nbformat_minor": 2
}
