{
 "cells": [
  {
   "cell_type": "code",
   "execution_count": 1,
   "metadata": {},
   "outputs": [],
   "source": [
    "%load_ext autoreload\n",
    "%autoreload 2\n",
    "%matplotlib qt5\n",
    "import matplotlib.pyplot as plt\n",
    "import numpy as np\n",
    "import jlc\n",
    "import scipy\n",
    "import cv2\n",
    "from utils import estimate_bias, estimate_bias_coefs,norm_quantile,norm_translation,process_vol\n",
    "from pathlib import Path\n",
    "import os"
   ]
  },
  {
   "cell_type": "code",
   "execution_count": 6,
   "metadata": {},
   "outputs": [
    {
     "name": "stdout",
     "output_type": "stream",
     "text": [
      "['data\\\\YCsgA_Exp2_Pos1.tif', 'data\\\\YCsgA_Exp2_Pos2.tif', 'data\\\\YCsgA_Exp2_Pos3.tif', 'data\\\\YCsgA_Exp2_Pos4.tif', 'data\\\\YCsgA_Exp3_Pos1.tif', 'data\\\\YCsgA_Exp3_Pos2.tif', 'data\\\\YCsgA_Exp3_Pos3.tif', 'data\\\\YCsgA_Exp3_Pos4.tif']\n"
     ]
    }
   ],
   "source": [
    "filenames = list(Path(\"./data/\").glob(\"*.tif\"))\n",
    "filenames = [str(f) for f in filenames]\n",
    "print(filenames)"
   ]
  },
  {
   "cell_type": "code",
   "execution_count": 7,
   "metadata": {},
   "outputs": [
    {
     "name": "stdout",
     "output_type": "stream",
     "text": [
      "done with frame 0/414\n",
      "done with frame 50/414\n",
      "done with frame 100/414\n",
      "done with frame 150/414\n",
      "done with frame 200/414\n",
      "done with frame 250/414\n",
      "done with frame 300/414\n",
      "done with frame 350/414\n",
      "done with frame 400/414\n",
      "done with  data\\YCsgA_Exp2_Pos1.tif\n",
      "done with frame 0/414\n",
      "done with frame 50/414\n",
      "done with frame 100/414\n",
      "done with frame 150/414\n",
      "done with frame 200/414\n",
      "done with frame 250/414\n",
      "done with frame 300/414\n",
      "done with frame 350/414\n",
      "done with frame 400/414\n",
      "done with  data\\YCsgA_Exp2_Pos2.tif\n",
      "done with frame 0/414\n",
      "done with frame 50/414\n",
      "done with frame 100/414\n",
      "done with frame 150/414\n",
      "done with frame 200/414\n",
      "done with frame 250/414\n",
      "done with frame 300/414\n",
      "done with frame 350/414\n",
      "done with frame 400/414\n",
      "done with  data\\YCsgA_Exp2_Pos3.tif\n",
      "done with frame 0/414\n",
      "done with frame 50/414\n",
      "done with frame 100/414\n",
      "done with frame 150/414\n",
      "done with frame 200/414\n",
      "done with frame 250/414\n",
      "done with frame 300/414\n",
      "done with frame 350/414\n",
      "done with frame 400/414\n",
      "done with  data\\YCsgA_Exp2_Pos4.tif\n",
      "done with frame 0/360\n",
      "done with frame 50/360\n",
      "done with frame 100/360\n",
      "done with frame 150/360\n",
      "done with frame 200/360\n",
      "done with frame 250/360\n",
      "done with frame 300/360\n",
      "done with frame 350/360\n",
      "done with  data\\YCsgA_Exp3_Pos1.tif\n",
      "done with frame 0/360\n",
      "done with frame 50/360\n",
      "done with frame 100/360\n",
      "done with frame 150/360\n",
      "done with frame 200/360\n",
      "done with frame 250/360\n",
      "done with frame 300/360\n",
      "done with frame 350/360\n",
      "done with  data\\YCsgA_Exp3_Pos2.tif\n",
      "done with frame 0/360\n",
      "done with frame 50/360\n",
      "done with frame 100/360\n",
      "done with frame 150/360\n",
      "done with frame 200/360\n",
      "done with frame 250/360\n",
      "done with frame 300/360\n",
      "done with frame 350/360\n",
      "done with  data\\YCsgA_Exp3_Pos3.tif\n",
      "done with frame 0/360\n",
      "done with frame 50/360\n",
      "done with frame 100/360\n",
      "done with frame 150/360\n",
      "done with frame 200/360\n",
      "done with frame 250/360\n",
      "done with frame 300/360\n",
      "done with frame 350/360\n",
      "done with  data\\YCsgA_Exp3_Pos4.tif\n"
     ]
    }
   ],
   "source": [
    "#process and save\n",
    "for filename in filenames:\n",
    "    savename = filename.replace(\"data\",\"data_processed\")\n",
    "    os.makedirs(os.path.dirname(savename),exist_ok=True)\n",
    "    jlc.save_tifvol(process_vol(filename),savename)\n",
    "    print(\"done with \",filename)"
   ]
  },
  {
   "cell_type": "code",
   "execution_count": 4,
   "metadata": {},
   "outputs": [
    {
     "name": "stdout",
     "output_type": "stream",
     "text": [
      "['data_processed\\\\YCsgA_Exp2_Pos1.tif']\n"
     ]
    }
   ],
   "source": [
    "filenames = list(Path(\"./data_processed/\").glob(\"*.tif\"))\n",
    "filenames = [str(f) for f in filenames]\n",
    "print(filenames)"
   ]
  },
  {
   "cell_type": "code",
   "execution_count": 10,
   "metadata": {},
   "outputs": [],
   "source": [
    "vol = jlc.load_tifvol(filenames[2].replace(\"data\",\"data_processed\"))\n",
    "jlc.inspect_vol(vol.transpose(0,2,1))"
   ]
  },
  {
   "cell_type": "code",
   "execution_count": 64,
   "metadata": {},
   "outputs": [],
   "source": [
    "class FiberGraph:\n",
    "    def __init__(self, find_conn_func=None):\n",
    "        self.nodes = []\n",
    "        self.edges = []\n",
    "        self.node_to_cc = []\n",
    "        self.cc_to_node = []\n",
    "        self.XY = np.zeros((0,2))\n",
    "        if find_conn_func is None:\n",
    "            self.find_conn_func = self.default_find_conn_func\n",
    "        else:\n",
    "            self.find_conn_func = find_conn_func\n",
    "    \n",
    "    def add_node(self,x,y,timestep,conn=None,is_growing=None):\n",
    "        node = {\"idx\": len(self.nodes),\n",
    "                \"x\": x,\n",
    "                \"y\": y,\n",
    "                \"timestep\": timestep,\n",
    "                \"is_growing\": True if is_growing is None else is_growing}\n",
    "        \n",
    "        if conn is None and self.num_fibers()==0:\n",
    "            conn = []\n",
    "        if conn is None:\n",
    "            dist = np.linalg.norm(self.XY-np.array([x,y]),axis=1)\n",
    "            t = np.array([n[\"timestep\"] for n in self.nodes])\n",
    "            conn = self.find_conn_func(dist,timestep,t)\n",
    "        if isinstance(conn,int):\n",
    "            if isinstance(conn,int):\n",
    "                conn = [conn]\n",
    "        assert isinstance(conn,list)\n",
    "        \n",
    "        for c in conn:\n",
    "            self.add_edge(node[\"idx\"],c)\n",
    "\n",
    "        node[\"conn\"] = conn\n",
    "        if len(conn)>0:\n",
    "            node[\"root\"] = False\n",
    "            self.node_to_cc.append(self.node_to_cc[conn[0]])\n",
    "            self.cc_to_node[self.node_to_cc[conn[0]]].append(node[\"idx\"])\n",
    "        else:\n",
    "            node[\"root\"] = True\n",
    "            self.node_to_cc.append(len(self.cc_to_node))\n",
    "            self.cc_to_node.append([node[\"idx\"]])\n",
    "        self.nodes.append(node)\n",
    "        self.XY = np.vstack((self.XY,[x,y]))\n",
    "\n",
    "    def add_edge(self,idx1,idx2):\n",
    "        self.edges.append((idx1,idx2))\n",
    "        self.nodes[idx2][\"conn\"].append(idx1)\n",
    "        self.nodes[idx2][\"is_growing\"] = False\n",
    "\n",
    "    def __len__(self):\n",
    "        return len(self.nodes)\n",
    "\n",
    "    def num_fibers(self):\n",
    "        return len(self.cc_to_node)\n",
    "    \n",
    "    def plot(self,color=None,plot_cc=None):\n",
    "        if plot_cc is None:\n",
    "            plot_cc = np.arange(self.num_fibers())\n",
    "        if color is None:\n",
    "            color = np.random.rand(self.num_fibers(),3)\n",
    "        else:\n",
    "            if isinstance(color,str):\n",
    "                color = np.array([color]*self.num_fibers())\n",
    "            elif isinstance(color,(list,np.ndarray)):\n",
    "                assert len(color)==self.num_fibers(),\"color list must have same length as number of fibers if color is array/list\"\n",
    "        for cc_idx in range(len(self.cc_to_node)):\n",
    "            if cc_idx in plot_cc:\n",
    "                edges = []\n",
    "                for node_idx in self.cc_to_node[cc_idx]:\n",
    "                    node = self.nodes[node_idx]\n",
    "                    edges += [(node_idx,c) for c in node[\"conn\"]]\n",
    "                edges_x1_x2_nan = []\n",
    "                edges_y1_y2_nan = []\n",
    "                for idx1,idx2 in edges:\n",
    "                    edges_x1_x2_nan += [self.nodes[idx1][\"x\"],self.nodes[idx2][\"x\"],np.nan]\n",
    "                    edges_y1_y2_nan += [self.nodes[idx1][\"y\"],self.nodes[idx2][\"y\"],np.nan]\n",
    "                plt.plot(edges_x1_x2_nan,edges_y1_y2_nan,\".-\",color=color[cc_idx])\n",
    "        XY_growing = self.XY[[n[\"is_growing\"] for n in self.nodes]]\n",
    "        plt.plot(XY_growing[:,0],XY_growing[:,1],\"o\",color=\"green\",markerfacecolor='none',linewidth=1)\n",
    "        XY_root = self.XY[[n[\"root\"] for n in self.nodes]]\n",
    "        plt.plot(XY_root[:,0],XY_root[:,1],\"o\",color=\"red\",markerfacecolor='none',markersize=10)\n",
    "\n",
    "    def default_find_conn_func(self,dist,t_now,t):\n",
    "        mod_dist = dist+0.1*(t_now-t-1)**3\n",
    "        if any(mod_dist<5):\n",
    "            return [np.argmin(mod_dist)]\n",
    "        else:\n",
    "            return []\n",
    "fiber_graph = FiberGraph()\n",
    "n = 10\n",
    "for i in range(100):\n",
    "    fiber_graph.add_node(np.random.rand()*n,np.random.rand()*n,i)\n",
    "\n",
    "\n",
    "plt.imshow(np.zeros((n,n)),cmap=\"gray\",extent=[0,n,0,n])\n",
    "fiber_graph.plot()"
   ]
  },
  {
   "cell_type": "code",
   "execution_count": 52,
   "metadata": {},
   "outputs": [
    {
     "data": {
      "text/plain": [
       "70"
      ]
     },
     "execution_count": 52,
     "metadata": {},
     "output_type": "execute_result"
    }
   ],
   "source": [
    "sum([n[\"root\"] for n in fiber_graph.nodes])"
   ]
  },
  {
   "cell_type": "code",
   "execution_count": 50,
   "metadata": {},
   "outputs": [
    {
     "data": {
      "text/plain": [
       "(array([55.,  0.,  0.,  0.,  0., 30.,  0.,  0.,  0., 15.]),\n",
       " array([0. , 0.2, 0.4, 0.6, 0.8, 1. , 1.2, 1.4, 1.6, 1.8, 2. ]),\n",
       " <BarContainer object of 10 artists>)"
      ]
     },
     "execution_count": 50,
     "metadata": {},
     "output_type": "execute_result"
    }
   ],
   "source": [
    "plt.hist([len(n[\"conn\"]) for n in fiber_graph.nodes])"
   ]
  },
  {
   "cell_type": "code",
   "execution_count": 36,
   "metadata": {},
   "outputs": [
    {
     "data": {
      "text/plain": [
       "[[0], [1], [2], 3, [4], 5, [6], 7, 8, 9]"
      ]
     },
     "execution_count": 36,
     "metadata": {},
     "output_type": "execute_result"
    }
   ],
   "source": [
    "fiber_graph.cc_to_node"
   ]
  },
  {
   "cell_type": "code",
   "execution_count": 153,
   "metadata": {},
   "outputs": [],
   "source": [
    "def soft_threshold(start=0,stop=1,power=1): \n",
    "    to_interval = lambda x: np.clip((x-start)/(stop-start),0,1)\n",
    "    return lambda x: h(to_interval(x),power)\n",
    "def h(x,p):\n",
    "    return (x<0.5)*0.5*2**p*x**p+(x>=0.5)*(1-0.5*2**p*(1-x)**p)\n",
    "\n",
    "t = np.linspace(-1,2,300)\n",
    "for p in [0.5,1,2,3]:\n",
    "    f = soft_threshold(0,1,p)\n",
    "    plt.plot(t,f(t))"
   ]
  },
  {
   "cell_type": "code",
   "execution_count": 155,
   "metadata": {},
   "outputs": [],
   "source": [
    "jlc.inspect_vol(soft_threshold(0.1,0.3,2)(vol))"
   ]
  },
  {
   "cell_type": "code",
   "execution_count": 205,
   "metadata": {},
   "outputs": [],
   "source": [
    "jlc.inspect_vol(np.concatenate((vol, translated_vol), axis=2))"
   ]
  },
  {
   "cell_type": "code",
   "execution_count": 31,
   "metadata": {},
   "outputs": [
    {
     "data": {
      "text/plain": [
       "[<matplotlib.lines.Line2D at 0x1d01cea7c40>]"
      ]
     },
     "execution_count": 31,
     "metadata": {},
     "output_type": "execute_result"
    }
   ],
   "source": [
    "plt.plot(np.array(best_translation)[:,0], label='x')\n",
    "plt.plot(np.array(best_translation)[:,1], label='y')"
   ]
  },
  {
   "cell_type": "code",
   "execution_count": 100,
   "metadata": {},
   "outputs": [
    {
     "data": {
      "text/plain": [
       "[<matplotlib.lines.Line2D at 0x1fe87db8a60>]"
      ]
     },
     "execution_count": 100,
     "metadata": {},
     "output_type": "execute_result"
    }
   ],
   "source": [
    "from scipy.ndimage import gaussian_filter\n",
    "smooth_translation = np.array(best_translation)\n",
    "smooth_translation = gaussian_filter(smooth_translation, sigma=[3,0])\n",
    "plt.plot(smooth_translation[:,0], label='x')\n",
    "plt.plot(smooth_translation[:,1], label='y')"
   ]
  },
  {
   "cell_type": "code",
   "execution_count": 68,
   "metadata": {},
   "outputs": [
    {
     "data": {
      "text/plain": [
       "[<matplotlib.lines.Line2D at 0x1fe7626d1b0>]"
      ]
     },
     "execution_count": 68,
     "metadata": {},
     "output_type": "execute_result"
    }
   ],
   "source": [
    "plt.plot(np.array(best_translation)[:,0],np.array(best_translation)[:,1])"
   ]
  },
  {
   "cell_type": "code",
   "execution_count": 131,
   "metadata": {},
   "outputs": [
    {
     "data": {
      "text/plain": [
       "<matplotlib.image.AxesImage at 0x1feb45c29b0>"
      ]
     },
     "execution_count": 131,
     "metadata": {},
     "output_type": "execute_result"
    }
   ],
   "source": [
    "plt.imshow(vol[:,:,0])"
   ]
  },
  {
   "cell_type": "code",
   "execution_count": 132,
   "metadata": {},
   "outputs": [
    {
     "data": {
      "text/plain": [
       "(0.021767714915564087, 0.3470474157935479)"
      ]
     },
     "execution_count": 132,
     "metadata": {},
     "output_type": "execute_result"
    }
   ],
   "source": [
    "a = gaussian_filter(vol[200,:,0],2)\n",
    "b = gaussian_filter(vol[205,:,0],2)\n",
    "plt.scatter(a,b)\n",
    "plt.plot([0,1],[0,1],color=\"red\")\n",
    "plt.xlim(min(a.min(),b.min()), max(a.max(),b.max()))\n",
    "plt.ylim(min(a.min(),b.min()), max(a.max(),b.max()))\n",
    "\n"
   ]
  },
  {
   "cell_type": "code",
   "execution_count": 127,
   "metadata": {},
   "outputs": [
    {
     "data": {
      "text/plain": [
       "(684,)"
      ]
     },
     "execution_count": 127,
     "metadata": {},
     "output_type": "execute_result"
    }
   ],
   "source": [
    "b.shape"
   ]
  },
  {
   "cell_type": "code",
   "execution_count": 139,
   "metadata": {},
   "outputs": [
    {
     "data": {
      "text/plain": [
       "[<matplotlib.lines.Line2D at 0x1febabfb730>]"
      ]
     },
     "execution_count": 139,
     "metadata": {},
     "output_type": "execute_result"
    }
   ],
   "source": [
    "plt.plot(a)\n",
    "plt.plot(b)"
   ]
  },
  {
   "cell_type": "code",
   "execution_count": 128,
   "metadata": {},
   "outputs": [
    {
     "data": {
      "text/plain": [
       "[<matplotlib.lines.Line2D at 0x1feb3e9f940>]"
      ]
     },
     "execution_count": 128,
     "metadata": {},
     "output_type": "execute_result"
    }
   ],
   "source": [
    "cc = []\n",
    "for t in translate_search:\n",
    "    b_translated = cv2.warpAffine(b, np.float32([[1,0,t],[0,1,0]]), (1,b.shape[0]), flags=cv2.INTER_LINEAR,borderMode=cv2.BORDER_REPLICATE)[:,0]\n",
    "    corr = np.corrcoef(a,b_translated)[0,1]\n",
    "    cc.append(corr)\n",
    "plt.plot(translate_search, cc)"
   ]
  }
 ],
 "metadata": {
  "kernelspec": {
   "display_name": "cv-env",
   "language": "python",
   "name": "python3"
  },
  "language_info": {
   "codemirror_mode": {
    "name": "ipython",
    "version": 3
   },
   "file_extension": ".py",
   "mimetype": "text/x-python",
   "name": "python",
   "nbconvert_exporter": "python",
   "pygments_lexer": "ipython3",
   "version": "3.10.11"
  }
 },
 "nbformat": 4,
 "nbformat_minor": 2
}
