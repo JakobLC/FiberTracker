{
 "cells": [
  {
   "cell_type": "code",
   "execution_count": 15,
   "metadata": {},
   "outputs": [
    {
     "name": "stdout",
     "output_type": "stream",
     "text": [
      "The autoreload extension is already loaded. To reload it, use:\n",
      "  %reload_ext autoreload\n"
     ]
    }
   ],
   "source": [
    "%load_ext autoreload\n",
    "%autoreload 2\n",
    "%matplotlib qt5\n",
    "import matplotlib.pyplot as plt\n",
    "import numpy as np\n",
    "from utils import (process_vol,inspect_fiber_vol,filter_vol,\n",
    "                   FiberGraph,get_high_density_mask,\n",
    "                   generate_fake_fiber_data,inspect_vol)\n",
    "from pathlib import Path\n",
    "import os\n",
    "#inspect_vol is also included in utils to avoid dependency on jlc\n",
    "#from jlc import inspect_vol\n",
    "\"\"\"\n",
    "#Assumes the data is in the ./data/ folder as tif stacks\n",
    "filenames = list(Path(\"./data/\").glob(\"*.tif\"))\n",
    "filenames = sorted([str(f) for f in filenames])\n",
    "print(filenames)\n",
    "i = 0\n",
    "vol = process_vol(filenames[i])\n",
    "\"\"\"\n",
    "#Synthetic data to avoid any file size problems\n",
    "vol = generate_fake_fiber_data(H=128,num_fibers=16,num_frames=128,\n",
    "                               bias_spatial=0.1,\n",
    "                                bias_temporal=0.1,\n",
    "                                bias_translation=0.05)\n",
    "inspect_vol(vol)"
   ]
  },
  {
   "cell_type": "code",
   "execution_count": 6,
   "metadata": {},
   "outputs": [],
   "source": [
    "#Inspect the vol (Use arrow keys to navigate through the different frames)\n",
    "inspect_vol(vol)"
   ]
  },
  {
   "cell_type": "code",
   "execution_count": 7,
   "metadata": {},
   "outputs": [
    {
     "data": {
      "text/plain": [
       "(Text(0.5, 1.0, 'Last frame, t=255'), (-0.5, 127.5, 127.5, -0.5))"
      ]
     },
     "execution_count": 7,
     "metadata": {},
     "output_type": "execute_result"
    }
   ],
   "source": [
    "plt.figure(figsize=(15,5))\n",
    "plt.subplot(131)\n",
    "plt.imshow(vol[0],cmap='gray')\n",
    "plt.title(\"First frame T=0\"),plt.axis('off')\n",
    "plt.subplot(132)\n",
    "plt.imshow(vol[vol.shape[0]//2],cmap='gray')\n",
    "plt.title(f\"Middle frame, t={vol.shape[0]//2}\"),plt.axis('off')\n",
    "plt.subplot(133)\n",
    "plt.imshow(vol[-1],cmap='gray')\n",
    "plt.title(f\"Last frame, t={vol.shape[0]-1}\"),plt.axis('off')"
   ]
  },
  {
   "cell_type": "code",
   "execution_count": 16,
   "metadata": {},
   "outputs": [
    {
     "name": "stdout",
     "output_type": "stream",
     "text": [
      "done with frame 0/127\n",
      "done with frame 50/127\n",
      "done with frame 100/127\n"
     ]
    }
   ],
   "source": [
    "#define save_path to save the processed volume, avoid running this cell multiple times\n",
    "save_path = None\n",
    "#save_path = \"./data/fake_fiber_data_processed.npy\"\n",
    "#default params\n",
    "alpha = 0.01 #quantile for intensity normalization\n",
    "thresh_small = [0.08,0.12] #threshold intervalfor volume after laplace filtering\n",
    "s1,s2 = 0.75,1.5 #scales for the laplace (difference of gaussians) filter\n",
    "vol_visualize_t = [0,vol.shape[0]//2,vol.shape[0]-1] #frames to visualize\n",
    "vol_visualize = [[vol[j] for j in vol_visualize_t]]\n",
    "vol, best_translation = process_vol(vol,\n",
    "                                    reset_origo_on_bad_frame=False,\n",
    "                                    crop_half=False,\n",
    "                                    transpose=False,\n",
    "                                    smaller=False)\n",
    "vol_visualize.append([vol[j] for j in vol_visualize_t])\n",
    "vol = filter_vol(vol,alpha=alpha,thresh_small=thresh_small)\n",
    "vol_visualize.append([vol[j] for j in vol_visualize_t])\n",
    "if save_path is not None:\n",
    "    np.save(save_path,vol)"
   ]
  },
  {
   "cell_type": "code",
   "execution_count": 9,
   "metadata": {},
   "outputs": [
    {
     "data": {
      "text/plain": [
       "([<matplotlib.axis.YTick at 0x77fb4529aa60>,\n",
       "  <matplotlib.axis.YTick at 0x77fb437e6820>,\n",
       "  <matplotlib.axis.YTick at 0x77fb452abb20>],\n",
       " [Text(0, 64, 'Original'),\n",
       "  Text(0, 192, 'Processed'),\n",
       "  Text(0, 320, 'Filtered')])"
      ]
     },
     "execution_count": 9,
     "metadata": {},
     "output_type": "execute_result"
    }
   ],
   "source": [
    "plt.figure(figsize=(10,10))\n",
    "concat_visualize = np.concatenate([np.concatenate(vol_visualize,axis=1) for vol_visualize in vol_visualize],axis=0)\n",
    "plt.imshow(concat_visualize,cmap='gray')\n",
    "h_vis,w_vis = vol_visualize[0][0].shape\n",
    "xpos = range(w_vis//2,w_vis*len(vol_visualize[0]),w_vis)\n",
    "ypos = range(h_vis//2,h_vis*len(vol_visualize),h_vis)\n",
    "ax = plt.gca()\n",
    "ax.tick_params(top=True, labeltop=True, bottom=False, labelbottom=False)\n",
    "plt.xticks(xpos,[f\"t={t}\" for t in vol_visualize_t])\n",
    "plt.yticks(ypos,[\"Original\",\"Processed\",\"Filtered\"])"
   ]
  },
  {
   "cell_type": "code",
   "execution_count": 10,
   "metadata": {},
   "outputs": [],
   "source": [
    "#Inspect the vol (Use arrow keys to navigate through the different frames)\n",
    "inspect_vol(vol)"
   ]
  },
  {
   "cell_type": "code",
   "execution_count": 17,
   "metadata": {},
   "outputs": [],
   "source": [
    "fiber_graph = FiberGraph(radius=3,threshold=0.2)\n",
    "fiber_graph.process_vol(vol)\n",
    "\n",
    "#remove connected components with <min_size points\n",
    "fiber_graph.cc_crop(min_size=3)\n",
    "\n",
    "#remove leaf fibers with <=num points\n",
    "fiber_graph.leaf_crop(num=2)\n",
    "\n",
    "#remove high-density fiber areas (because they are too messy)\n",
    "fiber_graph.high_dens_crop(get_high_density_mask(vol[-1]))"
   ]
  },
  {
   "cell_type": "code",
   "execution_count": 18,
   "metadata": {},
   "outputs": [],
   "source": [
    "#show the last frame with fibers after removing various unwanted fibers\n",
    "plt.imshow(vol[-1],cmap='gray')\n",
    "fiber_graph.plot()"
   ]
  },
  {
   "cell_type": "code",
   "execution_count": 20,
   "metadata": {},
   "outputs": [],
   "source": [
    "#inspect the volume with the fibers to show the temporal evolution\n",
    "inspect_fiber_vol(vol,fiber_graph=fiber_graph)"
   ]
  }
 ],
 "metadata": {
  "kernelspec": {
   "display_name": "diff-env",
   "language": "python",
   "name": "python3"
  },
  "language_info": {
   "codemirror_mode": {
    "name": "ipython",
    "version": 3
   },
   "file_extension": ".py",
   "mimetype": "text/x-python",
   "name": "python",
   "nbconvert_exporter": "python",
   "pygments_lexer": "ipython3",
   "version": "3.8.18"
  }
 },
 "nbformat": 4,
 "nbformat_minor": 2
}
